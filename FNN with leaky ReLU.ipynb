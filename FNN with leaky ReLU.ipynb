{
 "cells": [
  {
   "cell_type": "code",
   "execution_count": 1,
   "metadata": {
    "collapsed": false
   },
   "outputs": [],
   "source": [
    "#Data set\n",
    "import numpy as np\n",
    "import matplotlib.pyplot as plt\n",
    "import pickle\n",
    "import pandas as pd\n",
    "\n",
    "N = 100 # number of points per class\n",
    "D = 2 # dimensionality\n",
    "K = 3 # number of classes\n",
    "X = np.zeros((N*K,D))\n",
    "y = np.zeros(N*K, dtype='uint8')\n",
    "for j in range(K):\n",
    "  ix = range(N*j,N*(j+1))\n",
    "  r = np.linspace(0.0,1,N) # radius\n",
    "  t = np.linspace(j*4,(j+1)*4,N) + np.random.randn(N)*0.2 # theta\n",
    "  X[ix] = np.c_[r*np.sin(t), r*np.cos(t)]\n",
    "  y[ix] = j\n",
    "\n",
    "pickle.dump(X,open('dataX.pickle','wb'))\n",
    "pickle.dump(y,open('dataY.pickle','wb'))"
   ]
  },
  {
   "cell_type": "code",
   "execution_count": 2,
   "metadata": {
    "collapsed": false
   },
   "outputs": [
    {
     "name": "stdout",
     "output_type": "stream",
     "text": [
      " Training Dataset X Shape :  (240, 2)\n",
      " Test Dataset X Shape :  (60, 2)\n",
      " Training Dataset Y Shape :  (240,)\n",
      " Test Dataset Y Shape :  (60,)\n"
     ]
    }
   ],
   "source": [
    "#Partition\n",
    "from sklearn.model_selection import train_test_split\n",
    "data_X_train, data_X_test, data_Y_train, data_Y_test = train_test_split(X, y, test_size=0.20)\n",
    "print (\" Training Dataset X Shape : \",data_X_train.shape)\n",
    "print (\" Test Dataset X Shape : \",data_X_test.shape)\n",
    "print (\" Training Dataset Y Shape : \",data_Y_train.shape)\n",
    "print (\" Test Dataset Y Shape : \",data_Y_test.shape)"
   ]
  },
  {
   "cell_type": "code",
   "execution_count": 6,
   "metadata": {
    "collapsed": false
   },
   "outputs": [],
   "source": [
    "def ffnl(X,y,s,r,g_iter):\n",
    "    #For simplicity we will take the batch size to be the same as number of examples\n",
    "    num_examples = X.shape[0]\n",
    "    h = 100\n",
    "    np.random.seed(1234)\n",
    "    W = 0.01 * np.random.randn(D,h)\n",
    "    b = np.zeros((1,h))\n",
    "    W2 = 0.01 * np.random.randn(h,K)\n",
    "    b2 = np.zeros((1,K))\n",
    "    \n",
    "    #Initial value for the Gradient Descent Parameter\n",
    "    step_size = s #Also called learning rate\n",
    "\n",
    "    #For simplicity, we will not hand tune this algorithm parameter as well.\n",
    "    reg= r\n",
    "    \n",
    "    # gradient descent loop\n",
    "    for i in range(g_iter):\n",
    "      \n",
    "  # evaluate class scores, [N x K]\n",
    "        #hidden_layer = np.maximum(0.01*x, np.dot(X, W) + b)# note, ReLU activation\n",
    "        hidden_layer = np.maximum(np.dot(0.01*X,W)+b  , np.dot(X,W)+ b) # Leaky ReLU activation\n",
    "        scores = np.dot(hidden_layer, W2) + b2\n",
    "         \n",
    "  # compute the class probabilities\n",
    "        exp_scores = np.exp(scores)\n",
    "        probs = exp_scores / np.sum(exp_scores, axis=1, keepdims=True) # [N x K]\n",
    "  \n",
    "  # compute the loss: average cross-entropy loss and regularization\n",
    "        corect_logprobs = -np.log(probs[range(num_examples),y])\n",
    "        data_loss = np.sum(corect_logprobs)/num_examples\n",
    "        reg_loss = 0.5*reg*np.sum(W*W) + 0.5*reg*np.sum(W2*W2)\n",
    "        loss = data_loss + reg_loss\n",
    "        #if i % 1000 == 0:\n",
    "            #print \"iteration %d: loss %f\" % (i, loss)\n",
    "  \n",
    "  # compute the gradient on scores\n",
    "        dscores = probs\n",
    "        dscores[range(num_examples),y] -= 1\n",
    "        dscores /= num_examples\n",
    "  \n",
    "  # backpropate the gradient to the parameters\n",
    "  # first backprop into parameters W2 and b2\n",
    "        dW2 = np.dot(hidden_layer.T, dscores)\n",
    "        db2 = np.sum(dscores, axis=0, keepdims=True)\n",
    "  # next backprop into hidden layer\n",
    "        dhidden = np.dot(dscores, W2.T)\n",
    "  # backprop the ReLU non-linearity\n",
    "        dhidden[hidden_layer <= 0] *= 0.01\n",
    "  # finally into W,b\n",
    "        dW = np.dot(X.T, dhidden)\n",
    "        db = np.sum(dhidden, axis=0, keepdims=True)\n",
    "  \n",
    "  # add regularization gradient contribution\n",
    "        dW2 += reg * W2\n",
    "        dW += reg * W\n",
    "  \n",
    "  # perform a parameter update\n",
    "        W += -step_size * dW\n",
    "        b += -step_size * db\n",
    "        W2 += -step_size * dW2\n",
    "        b2 += -step_size * db2\n",
    "        \n",
    "    return(W,b,W2,b2)"
   ]
  },
  {
   "cell_type": "code",
   "execution_count": 12,
   "metadata": {
    "collapsed": false
   },
   "outputs": [
    {
     "name": "stdout",
     "output_type": "stream",
     "text": [
      "train accuracy: 51.25\n",
      "Test accuracy: 56.67\n"
     ]
    }
   ],
   "source": [
    "#Question 5.2.3\n",
    "\n",
    "W,b,W2,b2= ffnl(data_X_train,data_Y_train,0.4,0.001,1000)\n",
    "\n",
    "hidden_layer = np.maximum(np.dot(0.01*data_X_train,W)+b  , np.dot(data_X_train,W)+ b)\n",
    "scores = np.dot(hidden_layer, W2) + b2\n",
    "predicted_class = np.argmax(scores, axis=1)\n",
    "print ('train accuracy: %.2f' % (np.mean(predicted_class == data_Y_train)*100))\n",
    "\n",
    "hidden_layer = np.maximum(np.dot(0.01*data_X_test,W)+b  , np.dot(data_X_test,W)+ b)\n",
    "scores = np.dot(hidden_layer, W2) + b2\n",
    "predicted_class = np.argmax(scores, axis=1)\n",
    "Test_Acc=(np.mean(predicted_class == data_Y_test)*100)\n",
    "print ('Test accuracy: %.2f' % Test_Acc)"
   ]
  },
  {
   "cell_type": "code",
   "execution_count": 13,
   "metadata": {
    "collapsed": false
   },
   "outputs": [
    {
     "name": "stdout",
     "output_type": "stream",
     "text": [
      "Validation Accuracy: 52.67\n",
      "Test Accuracy: 56.67\n"
     ]
    }
   ],
   "source": [
    "#Question 5.2.4\n",
    "from sklearn import cross_validation\n",
    "cv = cross_validation.KFold(len(X), n_folds=10,shuffle=True, random_state=None)\n",
    "#print(cv)\n",
    "#Define some local varaibles\n",
    "D = X.shape[1] #Number of features\n",
    "K = 3 #Number of classes assuming class index starts from 0\n",
    "\n",
    "# Start with an initialize parameters randomly\n",
    "\n",
    "\n",
    "# Initial values from hyperparameter\n",
    "reg = 1e-3 # regularization strength\n",
    "\n",
    "\n",
    "result=[]\n",
    "\n",
    "for traincv,testcv in cv:\n",
    "   \n",
    "    X_train, X_test = X[traincv], X[testcv]\n",
    "    y_train, y_test = y[traincv], y[testcv]\n",
    "    W,b,W2,b2=ffnl(X_train,y_train,0.4,0.001,1000)\n",
    "    \n",
    "    hidden_layer = np.maximum(np.dot(0.01*X_test,W)+b  , np.dot(X_test,W)+ b)\n",
    "    scores = np.dot(hidden_layer, W2) + b2\n",
    "    predicted_class = np.argmax(scores, axis=1)\n",
    "    result.append(np.mean(predicted_class == y_test))\n",
    "print (\"Validation Accuracy: %.2f\" % (np.array(result).mean()*100))\n",
    "print (\"Test Accuracy: %.2f\" % Test_Acc) \n"
   ]
  },
  {
   "cell_type": "code",
   "execution_count": 14,
   "metadata": {
    "collapsed": false
   },
   "outputs": [
    {
     "name": "stdout",
     "output_type": "stream",
     "text": [
      "20\n",
      "50\n",
      "100\n",
      "200\n",
      "500\n"
     ]
    },
    {
     "data": {
      "image/png": "[encoded data removed]",
      "text/plain": [
       "<matplotlib.figure.Figure at 0x259ba36fda0>"
      ]
     },
     "metadata": {},
     "output_type": "display_data"
    }
   ],
   "source": [
    "#Question 5.2.5\n",
    "result=[]\n",
    "W1=[]\n",
    "b1=[]\n",
    "W = 0.01 * np.random.randn(D,K)\n",
    "b = np.zeros((1,K))\n",
    "giter=[20,50,100,200,500]\n",
    "for j in giter[:]:\n",
    "    learning_rate=[]\n",
    "    result=[]\n",
    "    for i in range(10):\n",
    "        learning_rate.append(0.1*i)\n",
    "        W,b,W2,b2= ffnl(data_X_train,data_Y_train,0.1*i,0.001,j)\n",
    "        hidden_layer = np.maximum(np.dot(0.01*data_X_test,W)+b  , np.dot(data_X_test,W)+ b)\n",
    "        scores = np.dot(hidden_layer, W2) + b2\n",
    "        predicted_class = np.argmax(scores, axis=1)\n",
    "        result.append(np.mean(predicted_class == data_Y_test))    \n",
    "    plt.plot(learning_rate,result)\n",
    "    print(j)\n",
    "plt.suptitle('Accuracy vs Learning Rate')\n",
    "plt.xlabel('Learning Rate')\n",
    "plt.ylabel('Accuracy')\n",
    "plt.legend(['20', '50', '100', '200','500'], loc='upper right')\n",
    "plt.show()"
   ]
  },
  {
   "cell_type": "code",
   "execution_count": 15,
   "metadata": {
    "collapsed": false
   },
   "outputs": [
    {
     "data": {
      "image/png": "[encoded data removed]",
      "text/plain": [
       "<matplotlib.figure.Figure at 0x259ba3824e0>"
      ]
     },
     "metadata": {},
     "output_type": "display_data"
    },
    {
     "name": "stdout",
     "output_type": "stream",
     "text": [
      "Best Accuracy with Regularization parameter  : 58.33 \n",
      "Best Regularization parameter with Regularization parameter : 0.07500\n",
      "Best Accuracy without Regularization parameter  : 56.67 \n"
     ]
    }
   ],
   "source": [
    "#Question 5.2.6\n",
    "accuracy=[]\n",
    "learning_rate=[]\n",
    "regu_rate=[]\n",
    "resultl=[]\n",
    "W1=[]\n",
    "b1=[]\n",
    "resultr=[]\n",
    "for j in range(20):\n",
    "    regu_rate.append(0.005*j)\n",
    "    W,b,W2,b2= ffnl(data_X_train,data_Y_train,0.4,0.005*j,1000)\n",
    "    hidden_layer = np.maximum(np.dot(0.01*data_X_test,W)+b  , np.dot(data_X_test,W)+ b)\n",
    "    scores = np.dot(hidden_layer, W2) + b2\n",
    "    predicted_class = np.argmax(scores, axis=1)\n",
    "    resultr.append(np.mean(predicted_class == data_Y_test))\n",
    "plt.plot(regu_rate,resultr)\n",
    "plt.suptitle('Accuracy vs Regularisation Rate With Regularization')\n",
    "plt.xlabel('Regularisation Rate')\n",
    "plt.ylabel('Accuracy')\n",
    "plt.show()\n",
    "max_acc=max(resultr)\n",
    "index=resultr.index(max_acc)\n",
    "print (\"Best Accuracy with Regularization parameter  : %.2f \" % (max_acc*100))\n",
    "print (\"Best Regularization parameter with Regularization parameter : %.5f\" % regu_rate[index])\n",
    "resultr1=[]\n",
    "W,b,W2,b2= ffnl(data_X_train,data_Y_train,0.4,0,1000)\n",
    "hidden_layer = np.maximum(np.dot(0.01*data_X_test,W)+b  , np.dot(data_X_test,W)+ b)\n",
    "scores2 = np.dot(hidden_layer, W2) + b2\n",
    "predicted_class2 = np.argmax(scores2, axis=1)\n",
    "resultr1.append(np.mean(predicted_class2 == data_Y_test))\n",
    "max_acc1=max(resultr1)\n",
    "index1=resultr1.index(max_acc1)\n",
    "print (\"Best Accuracy without Regularization parameter  : %.2f \" % (max_acc1*100))"
   ]
  },
  {
   "cell_type": "code",
   "execution_count": 16,
   "metadata": {
    "collapsed": false
   },
   "outputs": [
    {
     "name": "stdout",
     "output_type": "stream",
     "text": [
      "train accuracy with 50:50 split: 54.58\n",
      "Test accuracy with 50:50 split: 65.00\n"
     ]
    }
   ],
   "source": [
    "#Question 5.2.7\n",
    "data_X_train50, data_X_test50, data_Y_train50, data_Y_test50 = train_test_split(X, y, test_size=0.50)\n",
    "W,b,W2,b2=ffnl(data_X_train50,data_Y_train50,0.2,0.001,1000)\n",
    "hidden_layer = np.maximum(np.dot(0.01*data_X_train,W)+b  , np.dot(data_X_train,W)+ b)\n",
    "scores = np.dot(hidden_layer, W2) + b2\n",
    "predicted_class = np.argmax(scores, axis=1)\n",
    "print ('train accuracy with 50:50 split: %.2f' % (np.mean(predicted_class == data_Y_train)*100))\n",
    "\n",
    "hidden_layer = np.maximum(np.dot(0.01*data_X_test,W)+b  , np.dot(data_X_test,W)+ b)\n",
    "scores = np.dot(hidden_layer, W2) + b2\n",
    "predicted_class = np.argmax(scores, axis=1)\n",
    "Test_Acc=(np.mean(predicted_class == data_Y_test)*100)\n",
    "print ('Test accuracy with 50:50 split: %.2f' % Test_Acc)"
   ]
  },
  {
   "cell_type": "code",
   "execution_count": null,
   "metadata": {
    "collapsed": true
   },
   "outputs": [],
   "source": []
  }
 ],
 "metadata": {
  "anaconda-cloud": {},
  "kernelspec": {
   "display_name": "Python [conda env:py35]",
   "language": "python",
   "name": "conda-env-py35-py"
  },
  "language_info": {
   "codemirror_mode": {
    "name": "ipython",
    "version": 3
   },
   "file_extension": ".py",
   "mimetype": "text/x-python",
   "name": "python",
   "nbconvert_exporter": "python",
   "pygments_lexer": "ipython3",
   "version": "3.5.2"
  }
 },
 "nbformat": 4,
 "nbformat_minor": 1
}
