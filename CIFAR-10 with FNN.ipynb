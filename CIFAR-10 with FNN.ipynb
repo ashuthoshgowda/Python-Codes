{
 "cells": [
  {
   "cell_type": "code",
   "execution_count": 7,
   "metadata": {
    "collapsed": false
   },
   "outputs": [
    {
     "name": "stdout",
     "output_type": "stream",
     "text": [
      "<_io.BufferedReader name='cifar-10-batches-py/data_batch_1'>\n",
      "<_io.BufferedReader name='cifar-10-batches-py/data_batch_2'>\n",
      "<_io.BufferedReader name='cifar-10-batches-py/data_batch_3'>\n",
      "<_io.BufferedReader name='cifar-10-batches-py/data_batch_4'>\n",
      "<_io.BufferedReader name='cifar-10-batches-py/data_batch_5'>\n",
      "<_io.BufferedReader name='cifar-10-batches-py/test_batch'>\n",
      "3073 10\n"
     ]
    }
   ],
   "source": [
    "import sys\n",
    "import os\n",
    "import time\n",
    "import string\n",
    "import random\n",
    "import pickle\n",
    "\n",
    "import numpy as np\n",
    "\n",
    "# for the larger networks (n>=9), we need to adjust pythons recursion limit\n",
    "sys.setrecursionlimit(10000)\n",
    "\n",
    "# ##################### Load data from CIFAR-10 dataset #######################\n",
    "# this code assumes the cifar dataset from 'https://www.cs.toronto.edu/~kriz/cifar-10-python.tar.gz'\n",
    "# has been extracted in current working directory\n",
    "def unpickle(file):\n",
    "    import cloudpickle\n",
    "    fo = open(file, 'rb')\n",
    "    print (fo)\n",
    "    dict = cloudpickle.load(fo, encoding='bytes')\n",
    "    fo.close()\n",
    "    return dict\n",
    "\n",
    "def load_data():\n",
    "    xs = []\n",
    "    ys = []\n",
    "    for j in range(5):\n",
    "        d = unpickle('cifar-10-batches-py/data_batch_'+str(j+1))\n",
    "        x = d[b'data']\n",
    "        y = d[b'labels']\n",
    "        xs.append(x)\n",
    "        ys.append(y)\n",
    "\n",
    "    x = np.concatenate(xs)\n",
    "    y = np.concatenate(ys).astype(np.int32)\n",
    "\n",
    "\n",
    "    d = unpickle('cifar-10-batches-py/test_batch')\n",
    "    x_test = d[b'data']\n",
    "    y_test = np.array(d[b'labels'],dtype=np.int32)\n",
    "\n",
    "    X_train = np.reshape(x, (x.shape[0], -1)) \n",
    "    X_test = np.reshape(x_test, (x_test.shape[0], -1))\n",
    "\n",
    "\n",
    "\n",
    "    # add bias dimension and transform into columns\n",
    "    X_train = np.hstack([X_train, np.ones((X_train.shape[0], 1))])\n",
    "    X_test = np.hstack([X_test, np.ones((X_test.shape[0], 1))])\n",
    "\n",
    "    return X_train, y, X_test, y_test\n",
    "\n",
    "data_X_train, data_Y_train, data_X_test, data_Y_test = load_data()\n",
    "\n",
    "\n",
    "D = data_X_train.shape[1]\n",
    "K = np.unique(data_Y_train).shape[0] #Y_train.shape[1]\n",
    "\n",
    "print (D,K)\n"
   ]
  },
  {
   "cell_type": "code",
   "execution_count": 8,
   "metadata": {
    "collapsed": false
   },
   "outputs": [],
   "source": [
    "import numpy as np\n",
    "import matplotlib.pyplot as plt\n",
    "from sklearn.model_selection import train_test_split"
   ]
  },
  {
   "cell_type": "code",
   "execution_count": 9,
   "metadata": {
    "collapsed": false
   },
   "outputs": [],
   "source": [
    "data_Y_train=np.asarray(data_Y_train)\n",
    "data_Y_test=np.asarray(data_Y_test)\n"
   ]
  },
  {
   "cell_type": "code",
   "execution_count": 10,
   "metadata": {
    "collapsed": true
   },
   "outputs": [],
   "source": [
    "def classifier(X,y,s,r,g_iter):\n",
    "    #Perform batch SGD using backprop\n",
    "    D = X.shape[1] #Number of features\n",
    "    K = 10 #Number of classes assuming class index starts from 0\n",
    "\n",
    "    # Start with an initialize parameters randomly\n",
    "\n",
    "    \n",
    "    # Initial values from hyperparameter\n",
    "    reg = r # regularization strength\n",
    "    \n",
    "    np.random.seed(1234)\n",
    "    W = 0.01 * np.random.randn(D,K)\n",
    "    b = np.zeros((1,K))\n",
    "#For simplicity we will take the batch size to be the same as number of examples\n",
    "    num_examples = X.shape[0]\n",
    "    \n",
    "    #Initial value for the Gradient Descent Parameter\n",
    "    step_size = s #Also called learning rate\n",
    "\n",
    "    #For simplicity, we will not hand tune this algorithm parameter as well.\n",
    "\n",
    "    # gradient descent loop\n",
    "    for i in range(g_iter):\n",
    "  \n",
    "    # evaluate class scores, [N x K]\n",
    "        scores = 0.01*np.dot(X, W) + b \n",
    "        \n",
    "    # compute the class probabilities\n",
    "        exp_scores = np.exp(scores)\n",
    "        probs = exp_scores / np.sum(exp_scores, axis=1, keepdims=True) # [N x K]\n",
    "    \n",
    "    # compute the loss: average cross-entropy loss and regularization\n",
    "        corect_logprobs = -np.log(probs[range(num_examples),y])\n",
    "        data_loss = np.sum(corect_logprobs)/num_examples\n",
    "        reg_loss = 0.5*reg*np.sum(W*W)\n",
    "        loss = data_loss + reg_loss\n",
    "        #if i % 0 == 0:\n",
    "            #print (\"iteration %d: loss %f\" % (i, loss))\n",
    "  \n",
    "    # compute the gradient on scores\n",
    "        dscores = probs\n",
    "        dscores[range(num_examples),y] -= 1\n",
    "        dscores /= num_examples\n",
    "  \n",
    "    # backpropate the gradient to the parameters (W,b)\n",
    "        dW = np.dot(X.T, dscores)\n",
    "        db = np.sum(dscores, axis=0, keepdims=True)\n",
    "  \n",
    "        dW += reg*W # regularization gradient\n",
    "  \n",
    "    # perform a parameter update\n",
    "        W += -step_size * dW\n",
    "        b += -step_size * db\n",
    "    \n",
    "    return(W,b)"
   ]
  },
  {
   "cell_type": "code",
   "execution_count": 11,
   "metadata": {
    "collapsed": false
   },
   "outputs": [
    {
     "name": "stdout",
     "output_type": "stream",
     "text": [
      "train accuracy: 15.09\n",
      "Test accuracy: 15.11\n"
     ]
    }
   ],
   "source": [
    "#Question 6.2.4.3\n",
    "W,b= classifier(data_X_train,data_Y_train,0.00001,0.002,4)\n",
    "\n",
    "scores = np.dot(data_X_train, W) + b\n",
    "predicted_class = np.argmax(scores, axis=1)\n",
    "\n",
    "print ('train accuracy: %.2f' % (np.mean(predicted_class == data_Y_train)*100))\n",
    "\n",
    "scores = np.dot(data_X_test,W) + b\n",
    "predicted_class = np.argmax(scores, axis=1)\n",
    "Test_Acc=(np.mean(predicted_class == data_Y_test)*100)\n",
    "print ('Test accuracy: %.2f' % Test_Acc)"
   ]
  },
  {
   "cell_type": "code",
   "execution_count": 13,
   "metadata": {
    "collapsed": false
   },
   "outputs": [
    {
     "name": "stdout",
     "output_type": "stream",
     "text": [
      "Validation Accuracy: 15.11\n",
      "Test Accuracy: 15.11\n"
     ]
    }
   ],
   "source": [
    "#Question 6.2.4.4\n",
    "from sklearn import cross_validation\n",
    "cv = cross_validation.KFold(len(data_X_train), n_folds=4,shuffle=True, random_state=None)\n",
    "#print(cv)\n",
    "#Define some local varaibles\n",
    "D = data_X_train.shape[1] #Number of features\n",
    "K = 10 #Number of classes assuming class index starts from 0\n",
    "\n",
    "# Start with an initialize parameters randomly\n",
    "\n",
    "\n",
    "# Initial values from hyperparameter\n",
    "reg = 1e-3 # regularization strength\n",
    "\n",
    "\n",
    "result=[]\n",
    "\n",
    "for traincv,testcv in cv:\n",
    "   \n",
    "    X_train, X_test = data_X_train[traincv], data_X_train[testcv]\n",
    "    y_train, y_test = data_Y_train[traincv], data_Y_train[testcv]\n",
    "    W1,b1=classifier(X_train,y_train,0.00001,0.002,4)\n",
    "       #print(type(X[testcv]))\n",
    "    #print(W1,b1)\n",
    "    \n",
    "    scores = np.dot(X_test, W1) + b1\n",
    "    predicted_class = np.argmax(scores, axis=1)\n",
    "    result.append(np.mean(predicted_class == y_test))\n",
    "print (\"Validation Accuracy: %.2f\" % (np.array(result).mean()*100))\n",
    "print (\"Test Accuracy: %.2f\" % Test_Acc) \n"
   ]
  },
  {
   "cell_type": "code",
   "execution_count": 10,
   "metadata": {
    "collapsed": false
   },
   "outputs": [
    {
     "data": {
      "image/png": "[encoded data removed]",
      "text/plain": [
       "<matplotlib.figure.Figure at 0x170015eda20>"
      ]
     },
     "metadata": {},
     "output_type": "display_data"
    }
   ],
   "source": [
    "#Question 6.2.4.5\n",
    "regu_rate=[]\n",
    "result=[]\n",
    "W1=[]\n",
    "b1=[]\n",
    "W = 0.01 * np.random.randn(D,K)\n",
    "b = np.zeros((1,K))\n",
    "giter=[2,5,10]\n",
    "for j in giter[:]:\n",
    "    learning_rate=[]\n",
    "    result=[]\n",
    "    for i in range(10):\n",
    "        learning_rate.append(0.000002*i)\n",
    "        W1,b1= classifier(data_X_train,data_Y_train,0.000002*i,0.002,j)\n",
    "        scores = np.dot(data_X_test, W1) + b1\n",
    "        predicted_class = np.argmax(scores, axis=1)\n",
    "        result.append(np.mean(predicted_class == data_Y_test))    \n",
    "    plt.plot(learning_rate,result)\n",
    "plt.suptitle('Accuracy vs Learning Rate')\n",
    "plt.xlabel('Learning Rate')\n",
    "plt.ylabel('Accuracy')\n",
    "plt.legend(['2', '5', '10'], loc='upper right')\n",
    "plt.show()\n"
   ]
  },
  {
   "cell_type": "code",
   "execution_count": 37,
   "metadata": {
    "collapsed": false
   },
   "outputs": [
    {
     "name": "stdout",
     "output_type": "stream",
     "text": [
      "4\n"
     ]
    },
    {
     "data": {
      "image/png": "[encoded data removed]",
      "text/plain": [
       "<matplotlib.figure.Figure at 0x26e66f905c0>"
      ]
     },
     "metadata": {},
     "output_type": "display_data"
    },
    {
     "name": "stdout",
     "output_type": "stream",
     "text": [
      "Best Accuracy with Regularization parameter  : 14.83 \n",
      "Best Regularization parameter with Regularization parameter : 0.00000\n",
      "Best Accuracy without Regularization parameter  : 10.27 \n"
     ]
    }
   ],
   "source": [
    "#Question 6.2.4.6\n",
    "accuracy=[]\n",
    "learning_rate=[]\n",
    "regu_rate=[]\n",
    "resultl=[]\n",
    "W1=[]\n",
    "b1=[]\n",
    "resultr=[]\n",
    "for j in range(5):\n",
    "    regu_rate.append(0.1*j)\n",
    "    W1,b1= classifier(data_X_train,data_Y_train,0.0001,0.1*j,10)\n",
    "    scores1 = np.dot(data_X_test, W1) + b1\n",
    "    predicted_class = np.argmax(scores1, axis=1)\n",
    "    resultr.append(np.mean(predicted_class == data_Y_test))\n",
    "plt.plot(regu_rate,resultr)\n",
    "print(j)\n",
    "plt.suptitle('Accuracy vs Regularisation Rate With Regularization')\n",
    "plt.xlabel('Regularisation Rate')\n",
    "plt.ylabel('Accuracy')\n",
    "plt.show()\n",
    "max_acc=max(resultr)\n",
    "index=resultr.index(max_acc)\n",
    "print (\"Best Accuracy with Regularization parameter  : %.2f \" % (max_acc*100))\n",
    "print (\"Best Regularization parameter with Regularization parameter : %.5f\" % regu_rate[index])\n",
    "resultr1=[]\n",
    "W2,b2= classifier(data_X_train,data_Y_train,0.0001,0,5)\n",
    "scores2 = np.dot(data_X_test, W2) + b2\n",
    "predicted_class2 = np.argmax(scores2, axis=1)\n",
    "resultr1.append(np.mean(predicted_class2 == data_Y_test))\n",
    "max_acc1=max(resultr1)\n",
    "index1=resultr1.index(max_acc1)\n",
    "print (\"Best Accuracy without Regularization parameter  : %.2f \" % (max_acc1*100))\n"
   ]
  },
  {
   "cell_type": "code",
   "execution_count": 20,
   "metadata": {
    "collapsed": false
   },
   "outputs": [
    {
     "name": "stdout",
     "output_type": "stream",
     "text": [
      " Train accuracy with 50:50 split: 13.44\n",
      " Test accuracy with 50:50 split: 12.77\n"
     ]
    }
   ],
   "source": [
    "#Question 6.2.4.7\n",
    "data_X_train50, data_X_test50, data_Y_train50, data_Y_test50 = train_test_split(data_X_train, data_Y_train, test_size=0.50)\n",
    "W1_50,b1_50=classifier(data_X_train50,data_Y_train50,0.0001,0.0001,20)\n",
    "train_scores50=np.dot(data_X_train50,W1_50) + b1_50\n",
    "test_scores50 = np.dot(data_X_test50, W1_50) + b1_50\n",
    "predicted_class_train50 = np.argmax(train_scores50, axis=1)\n",
    "predicted_class_test50 = np.argmax(test_scores50, axis=1)\n",
    "print (' Train accuracy with 50:50 split: %.2f' % (np.mean(predicted_class_train50 == data_Y_train50)*100))\n",
    "Test_Acc50=(np.mean(predicted_class_test50 == data_Y_test50)*100)\n",
    "print (' Test accuracy with 50:50 split: %.2f' % Test_Acc50)"
   ]
  },
  {
   "cell_type": "code",
   "execution_count": 21,
   "metadata": {
    "collapsed": false
   },
   "outputs": [],
   "source": [
    "def ffn(X,y,s,r,g_iter):\n",
    "    \n",
    "    \n",
    "    #For simplicity we will take the batch size to be the same as number of examples\n",
    "    num_examples = X.shape[0]\n",
    "    h = 100\n",
    "    D = data_X_train.shape[1] #Number of features\n",
    "    K = 10 #Number of classes assuming class index starts from 0\n",
    "\n",
    "    np.random.seed(1234)\n",
    "    W = 0.01 * np.random.randn(D,h)\n",
    "    b = np.zeros((1,h))\n",
    "    W2 = 0.01 * np.random.randn(h,K)\n",
    "    b2 = np.zeros((1,K))\n",
    "    \n",
    "    #Initial value for the Gradient Descent Parameter\n",
    "    step_size = s #Also called learning rate\n",
    "\n",
    "    #For simplicity, we will not hand tune this algorithm parameter as well.\n",
    "    reg= r\n",
    "    \n",
    "    # gradient descent loop\n",
    "    for i in range(g_iter):\n",
    "      \n",
    "  # evaluate class scores, [N x K]\n",
    "        hidden_layer = np.maximum(0, np.dot(X, W) + b) # note, ReLU activation\n",
    "        scores = np.dot(hidden_layer, W2) + b2\n",
    "  \n",
    "  # compute the class probabilities\n",
    "        exp_scores = np.exp(scores)\n",
    "        probs = exp_scores / np.sum(exp_scores, axis=1, keepdims=True) # [N x K]\n",
    "  \n",
    "  # compute the loss: average cross-entropy loss and regularization\n",
    "        corect_logprobs = -np.log(probs[range(num_examples),y])\n",
    "        data_loss = np.sum(corect_logprobs)/num_examples\n",
    "        reg_loss = 0.5*reg*np.sum(W*W) + 0.5*reg*np.sum(W2*W2)\n",
    "        loss = data_loss + reg_loss\n",
    "        if i % 1 == 0:\n",
    "            print (\"iteration %d: loss %f\" % (i, loss))\n",
    "  \n",
    "  # compute the gradient on scores\n",
    "        dscores = probs\n",
    "        dscores[range(num_examples),y] -= 1\n",
    "        dscores /= num_examples\n",
    "  \n",
    "  # backpropate the gradient to the parameters\n",
    "  # first backprop into parameters W2 and b2\n",
    "        dW2 = np.dot(hidden_layer.T, dscores)\n",
    "        db2 = np.sum(dscores, axis=0, keepdims=True)\n",
    "  # next backprop into hidden layer\n",
    "        dhidden = np.dot(dscores, W2.T)\n",
    "  # backprop the ReLU non-linearity\n",
    "        dhidden[hidden_layer <= 0] = 0\n",
    "  # finally into W,b\n",
    "        dW = np.dot(X.T, dhidden)\n",
    "        db = np.sum(dhidden, axis=0, keepdims=True)\n",
    "  \n",
    "  # add regularization gradient contribution\n",
    "        dW2 += reg * W2\n",
    "        dW += reg * W\n",
    "  \n",
    "  # perform a parameter update\n",
    "        W += -step_size * dW\n",
    "        b += -step_size * db\n",
    "        W2 += -step_size * dW2\n",
    "        b2 += -step_size * db2\n",
    "        \n",
    "    return(W,b,W2,b2)"
   ]
  },
  {
   "cell_type": "code",
   "execution_count": 27,
   "metadata": {
    "collapsed": false
   },
   "outputs": [
    {
     "name": "stdout",
     "output_type": "stream",
     "text": [
      "iteration 0: loss 5.874643\n",
      "iteration 1: loss 5.397032\n",
      "iteration 2: loss 4.714857\n",
      "iteration 3: loss 4.213515\n",
      "iteration 4: loss 3.856175\n",
      "iteration 5: loss 3.755358\n",
      "iteration 6: loss 3.597151\n",
      "iteration 7: loss 3.466734\n",
      "iteration 8: loss 3.343302\n",
      "iteration 9: loss 3.206605\n",
      "iteration 10: loss 3.280949\n",
      "iteration 11: loss 3.036332\n",
      "iteration 12: loss 3.005789\n",
      "iteration 13: loss 2.938433\n",
      "iteration 14: loss 2.901243\n",
      "iteration 15: loss 2.832513\n",
      "iteration 16: loss 2.801928\n",
      "iteration 17: loss 2.770897\n",
      "iteration 18: loss 2.730775\n",
      "iteration 19: loss 2.693562\n",
      "train accuracy: 17.90\n",
      "Test accuracy: 18.65\n"
     ]
    }
   ],
   "source": [
    "#Question 6.2.5.1.3\n",
    "#Question 5.1.3\n",
    "\n",
    "W,b,W2,b2= ffn(data_X_train,data_Y_train,0.0001,0.001,30)\n",
    "\n",
    "hidden_layer = np.maximum(0, np.dot(data_X_train, W) + b)\n",
    "scores = np.dot(hidden_layer, W2) + b2\n",
    "predicted_class = np.argmax(scores, axis=1)\n",
    "print ('train accuracy: %.2f' % (np.mean(predicted_class == data_Y_train)*100))\n",
    "\n",
    "hidden_layer = np.maximum(0, np.dot(data_X_test, W) + b)\n",
    "scores = np.dot(hidden_layer, W2) + b2\n",
    "predicted_class = np.argmax(scores, axis=1)\n",
    "Test_Acc=(np.mean(predicted_class == data_Y_test)*100)\n",
    "print ('Test accuracy: %.2f' % Test_Acc)"
   ]
  },
  {
   "cell_type": "code",
   "execution_count": 30,
   "metadata": {
    "collapsed": false
   },
   "outputs": [
    {
     "name": "stdout",
     "output_type": "stream",
     "text": [
      "iteration 0: loss 5.866680\n",
      "iteration 1: loss 5.393429\n",
      "iteration 2: loss 4.717552\n",
      "iteration 3: loss 4.179281\n",
      "iteration 4: loss 3.840574\n",
      "iteration 5: loss 3.741885\n",
      "iteration 6: loss 3.597392\n",
      "iteration 7: loss 3.449218\n",
      "iteration 8: loss 3.328888\n",
      "iteration 9: loss 3.203700\n",
      "iteration 0: loss 5.861747\n",
      "iteration 1: loss 5.363438\n",
      "iteration 2: loss 4.686745\n",
      "iteration 3: loss 4.197177\n",
      "iteration 4: loss 3.831827\n",
      "iteration 5: loss 3.733120\n",
      "iteration 6: loss 3.585769\n",
      "iteration 7: loss 3.463397\n",
      "iteration 8: loss 3.312746\n",
      "iteration 9: loss 3.183411\n",
      "iteration 0: loss 5.869391\n",
      "iteration 1: loss 5.383021\n",
      "iteration 2: loss 4.696195\n",
      "iteration 3: loss 4.216802\n",
      "iteration 4: loss 3.842903\n",
      "iteration 5: loss 3.744025\n",
      "iteration 6: loss 3.552798\n",
      "iteration 7: loss 3.462192\n",
      "iteration 8: loss 3.339959\n",
      "iteration 9: loss 3.166220\n",
      "iteration 0: loss 5.838909\n",
      "iteration 1: loss 5.386194\n",
      "iteration 2: loss 4.697804\n",
      "iteration 3: loss 4.200328\n",
      "iteration 4: loss 3.848224\n",
      "iteration 5: loss 3.736956\n",
      "iteration 6: loss 3.588063\n",
      "iteration 7: loss 3.431277\n",
      "iteration 8: loss 3.326907\n",
      "iteration 9: loss 3.202686\n",
      "Validation Accuracy: 14.44\n",
      "Test Accuracy: 18.65\n"
     ]
    }
   ],
   "source": [
    "#Question 6.2.5.1.4\n",
    "from sklearn import cross_validation\n",
    "cv = cross_validation.KFold(len(data_X_train), n_folds=4,shuffle=True, random_state=None)\n",
    "#print(cv)\n",
    "#Define some local varaibles\n",
    "D = data_X_train.shape[1] #Number of features\n",
    "K = 10 #Number of classes assuming class index starts from 0\n",
    "\n",
    "# Start with an initialize parameters randomly\n",
    "\n",
    "\n",
    "# Initial values from hyperparameter\n",
    "reg = 1e-3 # regularization strength\n",
    "\n",
    "\n",
    "result=[]\n",
    "\n",
    "for traincv,testcv in cv:\n",
    "   \n",
    "    X_train, X_test = data_X_train[traincv], data_X_train[testcv]\n",
    "    y_train, y_test = data_Y_train[traincv], data_Y_train[testcv]\n",
    "    W,b,W2,b2=ffn(X_train,y_train,0.0001,0.001,10)\n",
    "    \n",
    "    hidden_layer = np.maximum(0, np.dot(X_test, W) + b)\n",
    "    scores = np.dot(hidden_layer, W2) + b2\n",
    "    predicted_class = np.argmax(scores, axis=1)\n",
    "    result.append(np.mean(predicted_class == y_test))\n",
    "print (\"Validation Accuracy: %.2f\" % (np.array(result).mean()*100))\n",
    "print (\"Test Accuracy: %.2f\" % Test_Acc) "
   ]
  },
  {
   "cell_type": "code",
   "execution_count": 34,
   "metadata": {
    "collapsed": false
   },
   "outputs": [
    {
     "name": "stdout",
     "output_type": "stream",
     "text": [
      "iteration 0: loss 5.859182\n",
      "iteration 1: loss 5.859182\n",
      "iteration 0: loss 5.859182\n",
      "iteration 1: loss 5.017734\n",
      "iteration 0: loss 5.859182\n",
      "iteration 1: loss 6.623309\n",
      "iteration 0: loss 5.859182\n",
      "iteration 1: loss 8.521045\n",
      "iteration 0: loss 5.859182\n",
      "iteration 1: loss 10.709314\n",
      "2\n",
      "iteration 0: loss 5.859182\n",
      "iteration 1: loss 5.859182\n",
      "iteration 2: loss 5.859182\n",
      "iteration 3: loss 5.859182\n",
      "iteration 4: loss 5.859182\n",
      "iteration 0: loss 5.859182\n",
      "iteration 1: loss 5.017734\n",
      "iteration 2: loss 4.131898\n",
      "iteration 3: loss 3.780460\n",
      "iteration 4: loss 3.449204\n",
      "iteration 0: loss 5.859182\n",
      "iteration 1: loss 6.623309\n",
      "iteration 2: loss 6.595865\n",
      "iteration 3: loss 5.229590\n",
      "iteration 4: loss 4.546838\n",
      "iteration 0: loss 5.859182\n",
      "iteration 1: loss 8.521045\n",
      "iteration 2: loss 9.822992\n",
      "iteration 3: loss 6.563641\n",
      "iteration 4: loss 3.901970\n",
      "iteration 0: loss 5.859182\n",
      "iteration 1: loss 10.709314\n",
      "iteration 2: loss 14.416281\n",
      "iteration 3: loss 9.493930\n",
      "iteration 4: loss 2.427231\n",
      "5\n",
      "iteration 0: loss 5.859182\n",
      "iteration 1: loss 5.859182\n",
      "iteration 2: loss 5.859182\n",
      "iteration 3: loss 5.859182\n",
      "iteration 4: loss 5.859182\n",
      "iteration 5: loss 5.859182\n",
      "iteration 6: loss 5.859182\n",
      "iteration 7: loss 5.859182\n",
      "iteration 8: loss 5.859182\n",
      "iteration 9: loss 5.859182\n",
      "iteration 0: loss 5.859182\n",
      "iteration 1: loss 5.017734\n",
      "iteration 2: loss 4.131898\n",
      "iteration 3: loss 3.780460\n",
      "iteration 4: loss 3.449204\n",
      "iteration 5: loss 3.353773\n",
      "iteration 6: loss 3.294241\n",
      "iteration 7: loss 3.252658\n",
      "iteration 8: loss 3.245207\n",
      "iteration 9: loss 3.243719\n",
      "iteration 0: loss 5.859182\n",
      "iteration 1: loss 6.623309\n",
      "iteration 2: loss 6.595865\n",
      "iteration 3: loss 5.229590\n",
      "iteration 4: loss 4.546838\n",
      "iteration 5: loss 4.046333\n",
      "iteration 6: loss 3.874464\n",
      "iteration 7: loss 3.515189\n",
      "iteration 8: loss 3.099710\n",
      "iteration 9: loss 2.807629\n",
      "iteration 0: loss 5.859182\n",
      "iteration 1: loss 8.521045\n",
      "iteration 2: loss 9.822992\n",
      "iteration 3: loss 6.563641\n",
      "iteration 4: loss 3.901970\n",
      "iteration 5: loss 3.166644\n",
      "iteration 6: loss 2.683175\n",
      "iteration 7: loss 2.424407\n",
      "iteration 8: loss 2.369117\n",
      "iteration 9: loss 2.339054\n",
      "iteration 0: loss 5.859182\n",
      "iteration 1: loss 10.709314\n",
      "iteration 2: loss 14.416281\n",
      "iteration 3: loss 9.493930\n",
      "iteration 4: loss 2.427231\n",
      "iteration 5: loss 2.346610\n",
      "iteration 6: loss 2.329963\n",
      "iteration 7: loss 2.317986\n",
      "iteration 8: loss 2.308228\n",
      "iteration 9: loss 2.299679\n",
      "10\n"
     ]
    },
    {
     "data": {
      "image/png": "[encoded data removed]",
      "text/plain": [
       "<matplotlib.figure.Figure at 0x26e670c28d0>"
      ]
     },
     "metadata": {},
     "output_type": "display_data"
    }
   ],
   "source": [
    "#Question 6.2.5.1.5\n",
    "result=[]\n",
    "W1=[]\n",
    "b1=[]\n",
    "W = 0.01 * np.random.randn(D,K)\n",
    "b = np.zeros((1,K))\n",
    "giter=[2,5,10]\n",
    "for j in giter[:]:\n",
    "    learning_rate=[]\n",
    "    result=[]\n",
    "    for i in range(5):\n",
    "        learning_rate.append(0.00008*i)\n",
    "        W,b,W2,b2= ffn(data_X_train,data_Y_train,0.00008*i,0.001,j)\n",
    "        hidden_layer = np.maximum(0, np.dot(data_X_test, W) + b)\n",
    "        scores = np.dot(hidden_layer, W2) + b2\n",
    "        predicted_class = np.argmax(scores, axis=1)\n",
    "        result.append(np.mean(predicted_class == data_Y_test))    \n",
    "    plt.plot(learning_rate,result)\n",
    "    print(j)\n",
    "plt.suptitle('Accuracy vs Learning Rate')\n",
    "plt.xlabel('Learning Rate')\n",
    "plt.ylabel('Accuracy')\n",
    "plt.legend(['2', '5', '10'], loc='upper right')\n",
    "plt.show()"
   ]
  },
  {
   "cell_type": "code",
   "execution_count": 41,
   "metadata": {
    "collapsed": false
   },
   "outputs": [
    {
     "name": "stdout",
     "output_type": "stream",
     "text": [
      "iteration 0: loss 5.843721\n",
      "iteration 1: loss 5.366113\n",
      "iteration 2: loss 4.683941\n",
      "iteration 3: loss 4.182602\n",
      "iteration 4: loss 3.825261\n",
      "iteration 5: loss 3.724444\n",
      "iteration 6: loss 3.566246\n",
      "iteration 7: loss 3.435827\n",
      "iteration 8: loss 3.312394\n",
      "iteration 9: loss 3.175698\n",
      "iteration 0: loss 7.389793\n",
      "iteration 1: loss 6.912028\n",
      "iteration 2: loss 6.229699\n",
      "iteration 3: loss 5.728217\n",
      "iteration 4: loss 5.370760\n",
      "iteration 5: loss 5.269818\n",
      "iteration 6: loss 5.111492\n",
      "iteration 7: loss 4.980975\n",
      "iteration 8: loss 4.857539\n",
      "iteration 9: loss 4.720733\n",
      "iteration 0: loss 8.935866\n",
      "iteration 1: loss 8.457881\n",
      "iteration 2: loss 7.775332\n",
      "iteration 3: loss 7.273651\n",
      "iteration 4: loss 6.916014\n",
      "iteration 5: loss 6.814879\n",
      "iteration 6: loss 6.656375\n",
      "iteration 7: loss 6.525717\n",
      "iteration 8: loss 6.402184\n",
      "iteration 9: loss 6.265204\n",
      "iteration 0: loss 10.481938\n",
      "iteration 1: loss 10.003672\n",
      "iteration 2: loss 9.320856\n",
      "iteration 3: loss 8.818910\n",
      "iteration 4: loss 8.461010\n",
      "iteration 5: loss 8.359639\n",
      "iteration 6: loss 8.200896\n",
      "iteration 7: loss 8.070061\n",
      "iteration 8: loss 7.946315\n",
      "iteration 9: loss 7.809100\n",
      "iteration 0: loss 12.028010\n",
      "iteration 1: loss 11.549401\n",
      "iteration 2: loss 10.866243\n",
      "iteration 3: loss 10.363967\n",
      "iteration 4: loss 10.005775\n",
      "iteration 5: loss 9.904083\n",
      "iteration 6: loss 9.745026\n",
      "iteration 7: loss 9.613923\n",
      "iteration 8: loss 9.489978\n",
      "iteration 9: loss 9.352459\n"
     ]
    },
    {
     "data": {
      "image/png": "[encoded data removed]",
      "text/plain": [
       "<matplotlib.figure.Figure at 0x26e670f7470>"
      ]
     },
     "metadata": {},
     "output_type": "display_data"
    },
    {
     "name": "stdout",
     "output_type": "stream",
     "text": [
      "Best Accuracy with Regularization parameter  : 14.60 \n",
      "Best Regularization parameter with Regularization parameter : 0.20000\n",
      "iteration 0: loss 5.843721\n",
      "iteration 1: loss 5.366113\n",
      "iteration 2: loss 4.683941\n",
      "iteration 3: loss 4.182602\n",
      "iteration 4: loss 3.825261\n",
      "iteration 5: loss 3.724444\n",
      "iteration 6: loss 3.566246\n",
      "iteration 7: loss 3.435827\n",
      "iteration 8: loss 3.312394\n",
      "iteration 9: loss 3.175698\n",
      "Best Accuracy without Regularization parameter  : 14.59 \n"
     ]
    }
   ],
   "source": [
    "#Question 6.2.5.1.6\n",
    "accuracy=[]\n",
    "learning_rate=[]\n",
    "regu_rate=[]\n",
    "resultl=[]\n",
    "W1=[]\n",
    "b1=[]\n",
    "resultr=[]\n",
    "for j in range(5):\n",
    "    regu_rate.append(0.1*j)\n",
    "    W,b,W2,b2= ffn(data_X_train,data_Y_train,0.0001,0.1*j,10)\n",
    "    hidden_layer = np.maximum(0, np.dot(data_X_test, W) + b)\n",
    "    scores = np.dot(hidden_layer, W2) + b2\n",
    "    predicted_class = np.argmax(scores, axis=1)\n",
    "    resultr.append(np.mean(predicted_class == data_Y_test))\n",
    "plt.plot(regu_rate,resultr)\n",
    "plt.suptitle('Accuracy vs Regularisation Rate With Regularization')\n",
    "plt.xlabel('Regularisation Rate')\n",
    "plt.ylabel('Accuracy')\n",
    "plt.show()\n",
    "max_acc=max(resultr)\n",
    "index=resultr.index(max_acc)\n",
    "print (\"Best Accuracy with Regularization parameter  : %.2f \" % (max_acc*100))\n",
    "print (\"Best Regularization parameter with Regularization parameter : %.5f\" % regu_rate[index])\n",
    "resultr1=[]\n",
    "W,b,W2,b2= ffn(data_X_train,data_Y_train,0.0001,0,10)\n",
    "hidden_layer = np.maximum(0, np.dot(data_X_test, W) + b)\n",
    "scores2 = np.dot(hidden_layer, W2) + b2\n",
    "predicted_class2 = np.argmax(scores2, axis=1)\n",
    "resultr1.append(np.mean(predicted_class2 == data_Y_test))\n",
    "max_acc1=max(resultr1)\n",
    "index1=resultr1.index(max_acc1)\n",
    "print (\"Best Accuracy without Regularization parameter  : %.2f \" % (max_acc1*100))"
   ]
  },
  {
   "cell_type": "code",
   "execution_count": 45,
   "metadata": {
    "collapsed": false
   },
   "outputs": [
    {
     "name": "stdout",
     "output_type": "stream",
     "text": [
      "iteration 0: loss 5.858971\n",
      "iteration 1: loss 5.356584\n",
      "iteration 2: loss 4.691934\n",
      "iteration 3: loss 4.152427\n",
      "iteration 4: loss 3.811195\n",
      "iteration 5: loss 3.717640\n",
      "iteration 6: loss 3.593208\n",
      "iteration 7: loss 3.450426\n",
      "iteration 8: loss 3.295110\n",
      "iteration 9: loss 3.177057\n",
      "iteration 10: loss 3.267640\n",
      "iteration 11: loss 3.007109\n",
      "iteration 12: loss 2.976079\n",
      "iteration 13: loss 2.890727\n",
      "iteration 14: loss 2.855252\n",
      "iteration 15: loss 2.798534\n",
      "iteration 16: loss 2.765432\n",
      "iteration 17: loss 2.734812\n",
      "iteration 18: loss 2.696344\n",
      "iteration 19: loss 2.657940\n",
      "train accuracy with 50:50 split: 17.96\n",
      "Test accuracy with 50:50 split: 18.54\n"
     ]
    }
   ],
   "source": [
    "#Question 6.2.5.1.7\n",
    "data_X_train50, data_X_test50, data_Y_train50, data_Y_test50 = train_test_split(data_X_train, data_Y_train, test_size=0.50)\n",
    "W,b,W2,b2=ffn(data_X_train50,data_Y_train50,0.0001,0.00001,20)\n",
    "hidden_layer = np.maximum(0, np.dot(data_X_train, W) + b)\n",
    "scores = np.dot(hidden_layer, W2) + b2\n",
    "predicted_class = np.argmax(scores, axis=1)\n",
    "print ('train accuracy with 50:50 split: %.2f' % (np.mean(predicted_class == data_Y_train)*100))\n",
    "\n",
    "hidden_layer = np.maximum(0, np.dot(data_X_test, W) + b)\n",
    "scores = np.dot(hidden_layer, W2) + b2\n",
    "predicted_class = np.argmax(scores, axis=1)\n",
    "Test_Acc=(np.mean(predicted_class == data_Y_test)*100)\n",
    "print ('Test accuracy with 50:50 split: %.2f' % Test_Acc)"
   ]
  },
  {
   "cell_type": "code",
   "execution_count": 46,
   "metadata": {
    "collapsed": true
   },
   "outputs": [],
   "source": [
    "#Question 6.2.5.2\n",
    "def ffnl(X,y,s,r,g_iter):\n",
    "    #For simplicity we will take the batch size to be the same as number of examples\n",
    "    num_examples = X.shape[0]\n",
    "    h = 100\n",
    "    np.random.seed(1234)\n",
    "    W = 0.01 * np.random.randn(D,h)\n",
    "    b = np.zeros((1,h))\n",
    "    W2 = 0.01 * np.random.randn(h,K)\n",
    "    b2 = np.zeros((1,K))\n",
    "    \n",
    "    #Initial value for the Gradient Descent Parameter\n",
    "    step_size = s #Also called learning rate\n",
    "\n",
    "    #For simplicity, we will not hand tune this algorithm parameter as well.\n",
    "    reg= r\n",
    "    \n",
    "    # gradient descent loop\n",
    "    for i in range(g_iter):\n",
    "      \n",
    "  # evaluate class scores, [N x K]\n",
    "        #hidden_layer = np.maximum(0.01*x, np.dot(X, W) + b)# note, ReLU activation\n",
    "        hidden_layer = np.maximum(np.dot(0.01*X,W)+b  , np.dot(X,W)+ b) # Leaky ReLU activation\n",
    "        scores = np.dot(hidden_layer, W2) + b2\n",
    "         \n",
    "  # compute the class probabilities\n",
    "        exp_scores = np.exp(scores)\n",
    "        probs = exp_scores / np.sum(exp_scores, axis=1, keepdims=True) # [N x K]\n",
    "  \n",
    "  # compute the loss: average cross-entropy loss and regularization\n",
    "        corect_logprobs = -np.log(probs[range(num_examples),y])\n",
    "        data_loss = np.sum(corect_logprobs)/num_examples\n",
    "        reg_loss = 0.5*reg*np.sum(W*W) + 0.5*reg*np.sum(W2*W2)\n",
    "        loss = data_loss + reg_loss\n",
    "        #if i % 1000 == 0:\n",
    "            #print \"iteration %d: loss %f\" % (i, loss)\n",
    "  \n",
    "  # compute the gradient on scores\n",
    "        dscores = probs\n",
    "        dscores[range(num_examples),y] -= 1\n",
    "        dscores /= num_examples\n",
    "  \n",
    "  # backpropate the gradient to the parameters\n",
    "  # first backprop into parameters W2 and b2\n",
    "        dW2 = np.dot(hidden_layer.T, dscores)\n",
    "        db2 = np.sum(dscores, axis=0, keepdims=True)\n",
    "  # next backprop into hidden layer\n",
    "        dhidden = np.dot(dscores, W2.T)\n",
    "  # backprop the ReLU non-linearity\n",
    "        dhidden[hidden_layer <= 0] *= 0.01\n",
    "  # finally into W,b\n",
    "        dW = np.dot(X.T, dhidden)\n",
    "        db = np.sum(dhidden, axis=0, keepdims=True)\n",
    "  \n",
    "  # add regularization gradient contribution\n",
    "        dW2 += reg * W2\n",
    "        dW += reg * W\n",
    "  \n",
    "  # perform a parameter update\n",
    "        W += -step_size * dW\n",
    "        b += -step_size * db\n",
    "        W2 += -step_size * dW2\n",
    "        b2 += -step_size * db2\n",
    "        \n",
    "    return(W,b,W2,b2)"
   ]
  },
  {
   "cell_type": "code",
   "execution_count": 50,
   "metadata": {
    "collapsed": false
   },
   "outputs": [
    {
     "name": "stdout",
     "output_type": "stream",
     "text": [
      "train accuracy: 14.41\n",
      "Test accuracy: 14.45\n"
     ]
    }
   ],
   "source": [
    "#Question 6.2.5.2.3\n",
    "\n",
    "W,b,W2,b2= ffnl(data_X_train,data_Y_train,0.0001,0.0001,10)\n",
    "\n",
    "hidden_layer = np.maximum(np.dot(0.01*data_X_train,W)+b  , np.dot(data_X_train,W)+ b)\n",
    "scores = np.dot(hidden_layer, W2) + b2\n",
    "predicted_class = np.argmax(scores, axis=1)\n",
    "print ('train accuracy: %.2f' % (np.mean(predicted_class == data_Y_train)*100))\n",
    "\n",
    "hidden_layer = np.maximum(np.dot(0.01*data_X_test,W)+b  , np.dot(data_X_test,W)+ b)\n",
    "scores = np.dot(hidden_layer, W2) + b2\n",
    "predicted_class = np.argmax(scores, axis=1)\n",
    "Test_Acc=(np.mean(predicted_class == data_Y_test)*100)\n",
    "print ('Test accuracy: %.2f' % Test_Acc)"
   ]
  },
  {
   "cell_type": "code",
   "execution_count": 54,
   "metadata": {
    "collapsed": false
   },
   "outputs": [
    {
     "name": "stdout",
     "output_type": "stream",
     "text": [
      "Validation Accuracy: 12.79\n",
      "Test Accuracy: 14.45\n"
     ]
    }
   ],
   "source": [
    "#Question 6.2.5.2.4\n",
    "from sklearn import cross_validation\n",
    "cv = cross_validation.KFold(len(data_X_train), n_folds=10,shuffle=True, random_state=None)\n",
    "#print(cv)\n",
    "#Define some local varaibles\n",
    "D = data_X_train.shape[1] #Number of features\n",
    "K = 10 #Number of classes assuming class index starts from 0\n",
    "\n",
    "# Start with an initialize parameters randomly\n",
    "\n",
    "\n",
    "# Initial values from hyperparameter\n",
    "reg = 1e-3 # regularization strength\n",
    "\n",
    "\n",
    "result=[]\n",
    "\n",
    "for traincv,testcv in cv:\n",
    "   \n",
    "    X_train, X_test = data_X_train[traincv], data_X_train[testcv]\n",
    "    y_train, y_test = data_Y_train[traincv], data_Y_train[testcv]\n",
    "    W,b,W2,b2=ffnl(X_train,y_train,0.0001,0.001,3)\n",
    "    \n",
    "    hidden_layer = np.maximum(np.dot(0.01*X_test,W)+b  , np.dot(X_test,W)+ b)\n",
    "    scores = np.dot(hidden_layer, W2) + b2\n",
    "    predicted_class = np.argmax(scores, axis=1)\n",
    "    result.append(np.mean(predicted_class == y_test))\n",
    "print (\"Validation Accuracy: %.2f\" % (np.array(result).mean()*100))\n",
    "print (\"Test Accuracy: %.2f\" % Test_Acc)"
   ]
  },
  {
   "cell_type": "code",
   "execution_count": 58,
   "metadata": {
    "collapsed": false
   },
   "outputs": [
    {
     "name": "stdout",
     "output_type": "stream",
     "text": [
      "2\n",
      "5\n",
      "10\n"
     ]
    },
    {
     "data": {
      "image/png": "[encoded data removed]",
      "text/plain": [
       "<matplotlib.figure.Figure at 0x26e68283ac8>"
      ]
     },
     "metadata": {},
     "output_type": "display_data"
    }
   ],
   "source": [
    "#Question 6.2.5.2.5\n",
    "result=[]\n",
    "W1=[]\n",
    "b1=[]\n",
    "W = 0.01 * np.random.randn(D,K)\n",
    "b = np.zeros((1,K))\n",
    "giter=[2,5,10]\n",
    "for j in giter[:]:\n",
    "    learning_rate=[]\n",
    "    result=[]\n",
    "    for i in range(5):\n",
    "        learning_rate.append(0.0001*i)\n",
    "        W,b,W2,b2= ffnl(data_X_train,data_Y_train,0.0001*i,0.001,j)\n",
    "        hidden_layer = np.maximum(np.dot(0.01*data_X_test,W)+b  , np.dot(data_X_test,W)+ b)\n",
    "        scores = np.dot(hidden_layer, W2) + b2\n",
    "        predicted_class = np.argmax(scores, axis=1)\n",
    "        result.append(np.mean(predicted_class == data_Y_test))    \n",
    "    plt.plot(learning_rate,result)\n",
    "    print(j)\n",
    "plt.suptitle('Accuracy vs Learning Rate')\n",
    "plt.xlabel('Learning Rate')\n",
    "plt.ylabel('Accuracy')\n",
    "plt.legend(['2', '5', '10'], loc='upper right')\n",
    "plt.show()"
   ]
  },
  {
   "cell_type": "code",
   "execution_count": 60,
   "metadata": {
    "collapsed": false
   },
   "outputs": [
    {
     "data": {
      "image/png": "[encoded data removed]",
      "text/plain": [
       "<matplotlib.figure.Figure at 0x26e67f38ba8>"
      ]
     },
     "metadata": {},
     "output_type": "display_data"
    },
    {
     "name": "stdout",
     "output_type": "stream",
     "text": [
      "Best Accuracy with Regularization parameter  : 14.45 \n",
      "Best Regularization parameter with Regularization parameter : 0.00000\n",
      "Best Accuracy without Regularization parameter  : 14.45 \n"
     ]
    }
   ],
   "source": [
    "#Question 6.2.5.2.6\n",
    "accuracy=[]\n",
    "learning_rate=[]\n",
    "regu_rate=[]\n",
    "resultl=[]\n",
    "W1=[]\n",
    "b1=[]\n",
    "resultr=[]\n",
    "for j in range(5):\n",
    "    regu_rate.append(0.1*j)\n",
    "    W,b,W2,b2= ffnl(data_X_train,data_Y_train,0.0001,0.1*j,10)\n",
    "    hidden_layer = np.maximum(np.dot(0.01*data_X_test,W)+b  , np.dot(data_X_test,W)+ b)\n",
    "    scores = np.dot(hidden_layer, W2) + b2\n",
    "    predicted_class = np.argmax(scores, axis=1)\n",
    "    resultr.append(np.mean(predicted_class == data_Y_test))\n",
    "plt.plot(regu_rate,resultr)\n",
    "plt.suptitle('Accuracy vs Regularisation Rate With Regularization')\n",
    "plt.xlabel('Regularisation Rate')\n",
    "plt.ylabel('Accuracy')\n",
    "plt.show()\n",
    "max_acc=max(resultr)\n",
    "index=resultr.index(max_acc)\n",
    "print (\"Best Accuracy with Regularization parameter  : %.2f \" % (max_acc*100))\n",
    "print (\"Best Regularization parameter with Regularization parameter : %.5f\" % regu_rate[index])\n",
    "resultr1=[]\n",
    "W,b,W2,b2= ffnl(data_X_train,data_Y_train,0.0001,0.1*j,10)\n",
    "hidden_layer = np.maximum(np.dot(0.01*data_X_test,W)+b  , np.dot(data_X_test,W)+ b)\n",
    "scores2 = np.dot(hidden_layer, W2) + b2\n",
    "predicted_class2 = np.argmax(scores2, axis=1)\n",
    "resultr1.append(np.mean(predicted_class2 == data_Y_test))\n",
    "max_acc1=max(resultr1)\n",
    "index1=resultr1.index(max_acc1)\n",
    "print (\"Best Accuracy without Regularization parameter  : %.2f \" % (max_acc1*100))"
   ]
  },
  {
   "cell_type": "code",
   "execution_count": 63,
   "metadata": {
    "collapsed": false
   },
   "outputs": [
    {
     "name": "stdout",
     "output_type": "stream",
     "text": [
      "train accuracy with 50:50 split: 12.53\n",
      "Test accuracy with 50:50 split: 12.81\n"
     ]
    }
   ],
   "source": [
    "#Question 6.2.5.2.7\n",
    "data_X_train50, data_X_test50, data_Y_train50, data_Y_test50 = train_test_split(data_X_train, data_Y_train, test_size=0.50)\n",
    "W,b,W2,b2=ffnl(data_X_train50,data_Y_train50,0.0001,0.001,5)\n",
    "hidden_layer = np.maximum(np.dot(0.01*data_X_train,W)+b  , np.dot(data_X_train,W)+ b)\n",
    "scores = np.dot(hidden_layer, W2) + b2\n",
    "predicted_class = np.argmax(scores, axis=1)\n",
    "print ('train accuracy with 50:50 split: %.2f' % (np.mean(predicted_class == data_Y_train)*100))\n",
    "\n",
    "hidden_layer = np.maximum(np.dot(0.01*data_X_test,W)+b  , np.dot(data_X_test,W)+ b)\n",
    "scores = np.dot(hidden_layer, W2) + b2\n",
    "predicted_class = np.argmax(scores, axis=1)\n",
    "Test_Acc=(np.mean(predicted_class == data_Y_test)*100)\n",
    "print ('Test accuracy with 50:50 split: %.2f' % Test_Acc)"
   ]
  },
  {
   "cell_type": "code",
   "execution_count": 64,
   "metadata": {
    "collapsed": true
   },
   "outputs": [],
   "source": [
    "def ffnmo(X,y,step_size, reg, no_iter):\n",
    "        \n",
    "    # Start with an initial set of parameters randomly\n",
    "    h1 = 100 # size of hidden layer1\n",
    "    #h2 = 100 # size of hidden layer2\n",
    "    np.random.seed(1234)\n",
    "    W1 = 0.01 * np.random.randn(D,h1)\n",
    "    b1 = np.zeros((1,h1))\n",
    "    W2 = 0.01 * np.random.randn(D,h1)\n",
    "    b2 = np.zeros((1,h1))\n",
    "    W3 = 0.01 * np.random.randn(h1,K)\n",
    "    b3 = np.zeros((1,K))\n",
    "\n",
    "    num_examples = X.shape[0]\n",
    "\n",
    "    # gradient descent loop\n",
    "    for i in range(no_iter):\n",
    "\n",
    "        # evaluate class scores, [N x K]\n",
    "        #hidden_layer1 = np.maximum(0, np.dot(X, W1) + b1) # note, ReLU activation\n",
    "        #hidden_layer2 = np.maximum(0, np.dot(X, W2) + b2) # note, ReLU activation\n",
    "        hidden_layer = np.maximum(np.dot(X, W1) + b1, np.dot(X, W2) + b2) # note, ReLU activation\n",
    "        scores = np.dot(hidden_layer, W3) + b3\n",
    "\n",
    "        # compute the class probabilities\n",
    "        exp_scores = np.exp(scores)\n",
    "        probs = exp_scores / np.sum(exp_scores, axis=1, keepdims=True) # [N x K]\n",
    "\n",
    "        # compute the loss: average cross-entropy loss and regularization\n",
    "        corect_logprobs = -np.log(probs[range(num_examples),y])\n",
    "        data_loss = np.sum(corect_logprobs)/num_examples\n",
    "        reg_loss = 0.5*reg*np.sum(W1*W1) + 0.5*reg*np.sum(W2*W2) + 0.5*reg*np.sum(W3*W3)\n",
    "        loss = data_loss + reg_loss\n",
    "        #if i % 1000 == 0:\n",
    "            #print \"iteration %d: loss %f\" % (i, loss)\n",
    "\n",
    "        # compute the gradient on scores\n",
    "        dscores = probs\n",
    "        dscores[range(num_examples),y] -= 1\n",
    "        dscores /= num_examples\n",
    "        \n",
    "        dW3 = np.dot(hidden_layer.T, dscores)\n",
    "        db3 = np.sum(dscores, axis=0, keepdims=True)\n",
    "        \n",
    "        #dhidden[hidden_layer <= 0] = 0\n",
    "        dhidden2 = np.where(np.dot(X, W2) + b2 >= np.dot(X, W1) + b1, np.dot(dscores, W3.T), 0)\n",
    "        dhidden  = np.where(np.dot(X, W2) + b2 <= np.dot(X, W1) + b1, np.dot(dscores, W3.T), 0)\n",
    "  \n",
    "        # finally into W,b, W2,b2\n",
    "  \n",
    "        dW2 = np.dot(X.T, dhidden2)\n",
    "        db2 = np.sum(dhidden2, axis=0, keepdims=True)\n",
    "        dW1 = np.dot(X.T, dhidden)\n",
    "        db1 = np.sum(dhidden, axis=0, keepdims=True)\n",
    "        \n",
    "\n",
    "        # add regularization gradient contribution\n",
    "        dW3 += reg * W3\n",
    "        dW2 += reg * W2\n",
    "        dW1 += reg * W1\n",
    "\n",
    "        # perform a parameter update\n",
    "        W1 += -step_size * dW1\n",
    "        b1 += -step_size * db1\n",
    "        W2 += -step_size * dW2\n",
    "        b2 += -step_size * db2\n",
    "        W3 += -step_size * dW3\n",
    "        b3 += -step_size * db3\n",
    "    return(W1,b1,W2,b2,W3,b3)"
   ]
  },
  {
   "cell_type": "code",
   "execution_count": 65,
   "metadata": {
    "collapsed": false
   },
   "outputs": [
    {
     "name": "stdout",
     "output_type": "stream",
     "text": [
      "Train accuracy: 14.56\n",
      "Test accuracy: 14.48\n"
     ]
    }
   ],
   "source": [
    "#Question 6.2.5.3.3\n",
    "#Evaluate the Train and Test Accuracy\n",
    "\n",
    "W1,b1,W2,b2,W3,b3 = ffnmo(data_X_train,data_Y_train, 0.0001,0.0005,5)\n",
    "hidden_layer = np.maximum(np.dot(data_X_train, W1) + b1, np.dot(data_X_train, W2) + b2) # note, ReLU activation\n",
    "scores = np.dot(hidden_layer, W3) + b3\n",
    "predicted_class = np.argmax(scores, axis=1)\n",
    "print ('Train accuracy: %.2f' % (np.mean(predicted_class == data_Y_train)*100))\n",
    "\n",
    "\n",
    "hidden_layer = np.maximum(np.dot(data_X_test, W1) + b1, np.dot(data_X_test, W2) + b2) # note, ReLU activation\n",
    "scores = np.dot(hidden_layer, W3) + b3\n",
    "predicted_class = np.argmax(scores, axis=1)\n",
    "Test_Acc=(np.mean(predicted_class == data_Y_test)*100)\n",
    "print ('Test accuracy: %.2f' % Test_Acc)"
   ]
  },
  {
   "cell_type": "code",
   "execution_count": 68,
   "metadata": {
    "collapsed": false
   },
   "outputs": [
    {
     "name": "stdout",
     "output_type": "stream",
     "text": [
      "Validation Accuracy: 14.65\n",
      "Test Accuracy: 14.48\n"
     ]
    }
   ],
   "source": [
    "#Question 6.2.5.3.4\n",
    "from sklearn import cross_validation\n",
    "cv = cross_validation.KFold(len(data_X_train), n_folds=10,shuffle=True, random_state=None)\n",
    "#print(cv)\n",
    "#Define some local varaibles\n",
    "D = data_X_train.shape[1] #Number of features\n",
    "K = 10 #Number of classes assuming class index starts from 0\n",
    "\n",
    "# Start with an initialize parameters randomly\n",
    "\n",
    "\n",
    "# Initial values from hyperparameter\n",
    "reg = 1e-3 # regularization strength\n",
    "\n",
    "\n",
    "result=[]\n",
    "\n",
    "for traincv,testcv in cv:\n",
    "   \n",
    "    X_train, X_test = data_X_train[traincv], data_X_train[testcv]\n",
    "    y_train, y_test = data_Y_train[traincv], data_Y_train[testcv]\n",
    "    W1,b1,W2,b2,W3,b3 = ffnmo(X_train,y_train, 0.0001,0.001,3)\n",
    "    hidden_layer = np.maximum(np.dot(X_test, W1) + b1, np.dot(X_test, W2) + b2) # note, ReLU activation\n",
    "    scores = np.dot(hidden_layer, W3) + b3\n",
    "    predicted_class = np.argmax(scores, axis=1)\n",
    "    result.append(np.mean(predicted_class == y_test))\n",
    "print (\"Validation Accuracy: %.2f\" % (np.array(result).mean()*100))\n",
    "print (\"Test Accuracy: %.2f\" % Test_Acc) \n"
   ]
  },
  {
   "cell_type": "code",
   "execution_count": 69,
   "metadata": {
    "collapsed": false
   },
   "outputs": [
    {
     "name": "stdout",
     "output_type": "stream",
     "text": [
      "2\n",
      "5\n"
     ]
    },
    {
     "name": "stderr",
     "output_type": "stream",
     "text": [
      "C:\\Users\\adity\\.conda\\envs\\py35\\lib\\site-packages\\ipykernel\\__main__.py:30: RuntimeWarning: divide by zero encountered in log\n",
      "C:\\Users\\adity\\.conda\\envs\\py35\\lib\\site-packages\\ipykernel\\__main__.py:26: RuntimeWarning: overflow encountered in exp\n",
      "C:\\Users\\adity\\.conda\\envs\\py35\\lib\\site-packages\\ipykernel\\__main__.py:27: RuntimeWarning: invalid value encountered in true_divide\n",
      "C:\\Users\\adity\\.conda\\envs\\py35\\lib\\site-packages\\ipykernel\\__main__.py:22: RuntimeWarning: invalid value encountered in maximum\n",
      "C:\\Users\\adity\\.conda\\envs\\py35\\lib\\site-packages\\ipykernel\\__main__.py:46: RuntimeWarning: invalid value encountered in greater_equal\n",
      "C:\\Users\\adity\\.conda\\envs\\py35\\lib\\site-packages\\ipykernel\\__main__.py:47: RuntimeWarning: invalid value encountered in less_equal\n"
     ]
    },
    {
     "name": "stdout",
     "output_type": "stream",
     "text": [
      "10\n"
     ]
    },
    {
     "name": "stderr",
     "output_type": "stream",
     "text": [
      "C:\\Users\\adity\\.conda\\envs\\py35\\lib\\site-packages\\ipykernel\\__main__.py:14: RuntimeWarning: invalid value encountered in maximum\n"
     ]
    },
    {
     "data": {
      "image/png": "[encoded data removed]",
      "text/plain": [
       "<matplotlib.figure.Figure at 0x26e671488d0>"
      ]
     },
     "metadata": {},
     "output_type": "display_data"
    }
   ],
   "source": [
    "#Question 6.2.5.3.5\n",
    "result=[]\n",
    "W1=[]\n",
    "b1=[]\n",
    "W = 0.01 * np.random.randn(D,K)\n",
    "b = np.zeros((1,K))\n",
    "giter=[2,5,10]\n",
    "for j in giter[:]:\n",
    "    learning_rate=[]\n",
    "    result=[]\n",
    "    for i in range(5):\n",
    "        learning_rate.append(0.0001*i)\n",
    "        W1,b1,W2,b2,W3,b3= ffnmo(data_X_train,data_Y_train,0.0001*i,0.001,j)\n",
    "        hidden_layer = np.maximum(np.dot(data_X_test, W1) + b1, np.dot(data_X_test, W2) + b2) # note, ReLU activation\n",
    "        scores = np.dot(hidden_layer, W3) + b3\n",
    "        predicted_class = np.argmax(scores, axis=1)\n",
    "        result.append(np.mean(predicted_class == data_Y_test))    \n",
    "    plt.plot(learning_rate,result)\n",
    "    print(j)\n",
    "plt.suptitle('Accuracy vs Learning Rate')\n",
    "plt.xlabel('Learning Rate')\n",
    "plt.ylabel('Accuracy')\n",
    "plt.legend(['2', '5', '10'], loc='upper right')\n",
    "plt.show()"
   ]
  },
  {
   "cell_type": "code",
   "execution_count": null,
   "metadata": {
    "collapsed": true
   },
   "outputs": [],
   "source": [
    "#Question 6.2.5.3.6\n",
    "accuracy=[]\n",
    "learning_rate=[]\n",
    "regu_rate=[]\n",
    "resultl=[]\n",
    "W1=[]\n",
    "b1=[]\n",
    "resultr=[]\n",
    "for j in range(5):\n",
    "    regu_rate.append(0.005*j)\n",
    "    W1,b1,W2,b2,W3,b3= ffnmo(data_X_train,data_Y_train,0.0001,0.005*j,3)\n",
    "    hidden_layer = np.maximum(np.dot(data_X_test, W1) + b1, np.dot(data_X_test, W2) + b2)# note, ReLU activation\n",
    "    scores = np.dot(hidden_layer, W3) + b3\n",
    "    \n",
    "    predicted_class = np.argmax(scores, axis=1)\n",
    "    resultr.append(np.mean(predicted_class == data_Y_test))\n",
    "plt.plot(regu_rate,resultr)\n",
    "plt.suptitle('Accuracy vs Regularisation Rate With Regularization')\n",
    "plt.xlabel('Regularisation Rate')\n",
    "plt.ylabel('Accuracy')\n",
    "plt.show()\n",
    "max_acc=max(resultr)\n",
    "index=resultr.index(max_acc)\n",
    "print (\"Best Accuracy with Regularization parameter  : %.2f \" % (max_acc*100))\n",
    "print (\"Best Regularization parameter with Regularization parameter : %.5f\" % regu_rate[index])\n",
    "resultr1=[]\n",
    "W1,b1,W2,b2,W3,b3= ffnmo(data_X_train,data_Y_train,0.4,0,3)\n",
    "hidden_layer = np.maximum(np.dot(data_X_test, W1) + b1, np.dot(data_X_test, W2) + b2) # note, ReLU activation\n",
    "scores2 = np.dot(hidden_layer, W3) + b3\n",
    "predicted_class2 = np.argmax(scores2, axis=1)\n",
    "resultr1.append(np.mean(predicted_class2 == data_Y_test))\n",
    "\n",
    "\n",
    "max_acc1=max(resultr1)\n",
    "index1=resultr1.index(max_acc1)\n",
    "print (\"Best Accuracy without Regularization parameter  : %.2f \" % (max_acc1*100))"
   ]
  },
  {
   "cell_type": "code",
   "execution_count": null,
   "metadata": {
    "collapsed": true
   },
   "outputs": [],
   "source": [
    "#Question 6.2.5.3.7\n",
    "data_X_train50, data_X_test50, data_Y_train50, data_Y_test50 = train_test_split(X, y, test_size=0.50)\n",
    "W1,b1,W2,b2,W3,b3=ffnmo(data_X_train50,data_Y_train50,0.7,0.001,5)\n",
    "hidden_layer = np.maximum(np.dot(data_X_train, W1) + b1, np.dot(data_X_train, W2) + b2)# note, ReLU activation\n",
    "scores = np.dot(hidden_layer, W3) + b3\n",
    "predicted_class = np.argmax(scores, axis=1)\n",
    "print ('train accuracy with 50:50 split: %.2f' % (np.mean(predicted_class == data_Y_train)*100))\n",
    "\n",
    "hidden_layer = np.maximum(np.dot(data_X_test, W1) + b1, np.dot(data_X_test, W2) + b2)# note, ReLU activation\n",
    "scores = np.dot(hidden_layer, W3) + b3\n",
    "predicted_class = np.argmax(scores, axis=1)\n",
    "Test_Acc=(np.mean(predicted_class == data_Y_test)*100)\n",
    "print ('Test accuracy with 50:50 split: %.2f' % Test_Acc)"
   ]
  }
 ],
 "metadata": {
  "anaconda-cloud": {},
  "kernelspec": {
   "display_name": "Python 3",
   "language": "python",
   "name": "python3"
  },
  "language_info": {
   "codemirror_mode": {
    "name": "ipython",
    "version": 3
   },
   "file_extension": ".py",
   "mimetype": "text/x-python",
   "name": "python",
   "nbconvert_exporter": "python",
   "pygments_lexer": "ipython3",
   "version": "3.5.2"
  }
 },
 "nbformat": 4,
 "nbformat_minor": 1
}
