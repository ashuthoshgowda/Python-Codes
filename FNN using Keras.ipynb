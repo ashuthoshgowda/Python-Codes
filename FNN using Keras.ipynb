{
 "cells": [
  {
   "cell_type": "code",
   "execution_count": 20,
   "metadata": {
    "collapsed": false
   },
   "outputs": [],
   "source": [
    "from keras.models import Sequential\n",
    "from keras.layers import Dense, Activation\n",
    "#from keras.utils.visualize_util import plot\n",
    "from keras.utils.np_utils import to_categorical\n",
    "\n",
    "import  numpy as np\n",
    "import  matplotlib.pyplot as plt\n",
    "\n",
    "import  sklearn\n",
    "from    sklearn import datasets, linear_model"
   ]
  },
  {
   "cell_type": "code",
   "execution_count": 2,
   "metadata": {
    "collapsed": false
   },
   "outputs": [
    {
     "name": "stdout",
     "output_type": "stream",
     "text": [
      "238\n"
     ]
    }
   ],
   "source": [
    "import numpy as np\n",
    "import matplotlib.pyplot as plt\n",
    "import pickle\n",
    "import pandas as pd\n",
    "\n",
    "N = 100 # number of points per class\n",
    "D = 2 # dimensionality\n",
    "K = 3 # number of classes\n",
    "X = np.zeros((N*K,D))\n",
    "y = np.zeros(N*K, dtype='uint8')\n",
    "for j in range(K):\n",
    "  ix = range(N*j,N*(j+1))\n",
    "  r = np.linspace(0.0,1,N) # radius\n",
    "  t = np.linspace(j*4,(j+1)*4,N) + np.random.randn(N)*0.2 # theta\n",
    "  X[ix] = np.c_[r*np.sin(t), r*np.cos(t)]\n",
    "  y[ix] = j\n",
    "\n",
    "pickle.dump(X,open('dataX.pickle','wb'))\n",
    "pickle.dump(y,open('dataY.pickle','wb'))\n",
    "\n",
    "\n",
    "import random\n",
    "np.random.seed(1423)\n",
    "\n",
    "msk = np.random.rand(len(X)) < 0.8\n",
    "\n",
    "\n",
    "xtest=X[~msk]\n",
    "ytest=y[~msk]\n",
    "#print(msk)\n",
    "X=X[msk]\n",
    "y=y[msk]\n",
    "print(X.shape[0])"
   ]
  },
  {
   "cell_type": "code",
   "execution_count": 3,
   "metadata": {
    "collapsed": false
   },
   "outputs": [],
   "source": [
    "np.random.seed(0)\n",
    "X, y = sklearn.datasets.make_moons(200, noise=0.20)\n",
    "y = to_categorical(y)\n",
    "xtest, ytest = sklearn.datasets.make_moons(200, noise=0.20)\n",
    "ytest = to_categorical(ytest)"
   ]
  },
  {
   "cell_type": "code",
   "execution_count": 4,
   "metadata": {
    "collapsed": false
   },
   "outputs": [
    {
     "name": "stdout",
     "output_type": "stream",
     "text": [
      "Test accuracy: 84.0\n"
     ]
    }
   ],
   "source": [
    "#Linear Classifier with SGD optimizer\n",
    "model = Sequential()\n",
    "model.add(Dense(input_dim=2, output_dim=3, activation=\"linear\", init=\"normal\"))\n",
    "model.add(Dense(output_dim=2, activation=\"softmax\"))\n",
    "model.compile(loss='categorical_crossentropy', optimizer='sgd', metrics=['accuracy'])\n",
    "model.fit(X, y, nb_epoch=100,verbose=0)\n",
    "score = model.evaluate(xtest, ytest, verbose=0)\n",
    "print('Test accuracy:', score[1]*100)"
   ]
  },
  {
   "cell_type": "code",
   "execution_count": 5,
   "metadata": {
    "collapsed": false
   },
   "outputs": [
    {
     "name": "stdout",
     "output_type": "stream",
     "text": [
      "Test accuracy: 87.5\n"
     ]
    }
   ],
   "source": [
    "#Linear Classifier with RMS optimizer\n",
    "model = Sequential()\n",
    "model.add(Dense(input_dim=2, output_dim=3, activation=\"linear\", init=\"normal\"))\n",
    "model.add(Dense(output_dim=2, activation=\"softmax\"))\n",
    "model.compile(loss='categorical_crossentropy', optimizer='rmsprop', metrics=['accuracy'])\n",
    "model.fit(X, y, nb_epoch=100,verbose=0)\n",
    "score = model.evaluate(xtest, ytest, verbose=0)\n",
    "print('Test accuracy:', score[1]*100)"
   ]
  },
  {
   "cell_type": "code",
   "execution_count": 6,
   "metadata": {
    "collapsed": false
   },
   "outputs": [
    {
     "name": "stdout",
     "output_type": "stream",
     "text": [
      "Test accuracy: 83.5\n"
     ]
    }
   ],
   "source": [
    "#Feedforward Network with RMS Optimizer\n",
    "modelffn = Sequential()\n",
    "modelffn.add(Dense(2, input_dim=X.shape[1], init='normal', activation='softmax'))\n",
    "modelffn.compile(loss='categorical_crossentropy', optimizer='rmsprop', metrics=['accuracy'])\n",
    "modelffn.fit(X, y, nb_epoch=100,verbose=0)\n",
    "score = modelffn.evaluate(xtest, ytest, verbose=0)\n",
    "print('Test accuracy:', score[1]*100)"
   ]
  },
  {
   "cell_type": "code",
   "execution_count": 14,
   "metadata": {
    "collapsed": false
   },
   "outputs": [
    {
     "name": "stdout",
     "output_type": "stream",
     "text": [
      "Test accuracy: 84.5\n"
     ]
    }
   ],
   "source": [
    "#Feedforward Network with SGD Optimizer\n",
    "modelffn = Sequential()\n",
    "modelffn.add(Dense(2, input_dim=X.shape[1], init='normal', activation='softmax'))\n",
    "modelffn.compile(loss='categorical_crossentropy', optimizer='sgd', metrics=['accuracy'])\n",
    "modelffn.fit(X, y, nb_epoch=100,verbose=0)\n",
    "score = modelffn.evaluate(xtest, ytest, verbose=0)\n",
    "print('Test accuracy:', score[1]*100)"
   ]
  },
  {
   "cell_type": "code",
   "execution_count": 21,
   "metadata": {
    "collapsed": false
   },
   "outputs": [
    {
     "name": "stdout",
     "output_type": "stream",
     "text": [
      "Test accuracy: 88.5\n"
     ]
    }
   ],
   "source": [
    "#Feedforward Network with SGD Optimizer\n",
    "modelffn = Sequential()\n",
    "modelffn.add(Dense(2, input_dim=X.shape[1], init='normal', activation='softmax'))\n",
    "modelffn.compile(loss='categorical_crossentropy', optimizer='sgd', metrics=['accuracy'])\n",
    "modelffn.fit(X, y, nb_epoch=10000,verbose=0)\n",
    "score = modelffn.evaluate(xtest, ytest, verbose=0)\n",
    "print('Test accuracy:', score[1]*100)"
   ]
  },
  {
   "cell_type": "code",
   "execution_count": 26,
   "metadata": {
    "collapsed": false
   },
   "outputs": [
    {
     "name": "stdout",
     "output_type": "stream",
     "text": [
      "238\n",
      "Test accuracy of Linear Classifier with SGD optimizer : 89.0\n",
      "Test accuracy of Linear Classifier with RMS optimizer: 88.5\n",
      "Test accuracy of Feedforward Network with RMS Optimizer: 89.0\n",
      "Test accuracy of Feedforward Network with SGD Optimizer: 88.0\n"
     ]
    }
   ],
   "source": [
    "from keras.models import Sequential\n",
    "from keras.layers import Dense, Activation\n",
    "#from keras.utils.visualize_util import plot\n",
    "from keras.utils.np_utils import to_categorical\n",
    "\n",
    "import  numpy as np\n",
    "import  matplotlib.pyplot as plt\n",
    "\n",
    "import  sklearn\n",
    "from    sklearn import datasets, linear_model\n",
    "\n",
    "import numpy as np\n",
    "import matplotlib.pyplot as plt\n",
    "import pickle\n",
    "import pandas as pd\n",
    "\n",
    "N = 100 # number of points per class\n",
    "D = 2 # dimensionality\n",
    "K = 3 # number of classes\n",
    "X = np.zeros((N*K,D))\n",
    "y = np.zeros(N*K, dtype='uint8')\n",
    "for j in range(K):\n",
    "  ix = range(N*j,N*(j+1))\n",
    "  r = np.linspace(0.0,1,N) # radius\n",
    "  t = np.linspace(j*4,(j+1)*4,N) + np.random.randn(N)*0.2 # theta\n",
    "  X[ix] = np.c_[r*np.sin(t), r*np.cos(t)]\n",
    "  y[ix] = j\n",
    "\n",
    "pickle.dump(X,open('dataX.pickle','wb'))\n",
    "pickle.dump(y,open('dataY.pickle','wb'))\n",
    "\n",
    "\n",
    "import random\n",
    "np.random.seed(1423)\n",
    "\n",
    "msk = np.random.rand(len(X)) < 0.8\n",
    "\n",
    "\n",
    "xtest=X[~msk]\n",
    "ytest=y[~msk]\n",
    "#print(msk)\n",
    "X=X[msk]\n",
    "y=y[msk]\n",
    "print(X.shape[0])\n",
    "\n",
    "np.random.seed(0)\n",
    "X, y = sklearn.datasets.make_moons(200, noise=0.20)\n",
    "y = to_categorical(y)\n",
    "xtest, ytest = sklearn.datasets.make_moons(200, noise=0.20)\n",
    "ytest = to_categorical(ytest)\n",
    "\n",
    "#Linear Classifier with SGD optimizer\n",
    "model = Sequential()\n",
    "model.add(Dense(input_dim=2, output_dim=3, activation=\"linear\", init=\"normal\"))\n",
    "model.add(Dense(output_dim=2, activation=\"softmax\"))\n",
    "model.compile(loss='categorical_crossentropy', optimizer='sgd', metrics=['accuracy'])\n",
    "model.fit(X, y, nb_epoch=1000,verbose=0)\n",
    "score = model.evaluate(xtest, ytest, verbose=0)\n",
    "print('Test accuracy of Linear Classifier with SGD optimizer :', score[1]*100)\n",
    "\n",
    "#Linear Classifier with RMS optimizer\n",
    "model = Sequential()\n",
    "model.add(Dense(input_dim=2, output_dim=3, activation=\"linear\", init=\"normal\"))\n",
    "model.add(Dense(output_dim=2, activation=\"softmax\"))\n",
    "model.compile(loss='categorical_crossentropy', optimizer='rmsprop', metrics=['accuracy'])\n",
    "model.fit(X, y, nb_epoch=1000,verbose=0)\n",
    "score = model.evaluate(xtest, ytest, verbose=0)\n",
    "print('Test accuracy of Linear Classifier with RMS optimizer:', score[1]*100)\n",
    "\n",
    "#Feedforward Network with RMS Optimizer\n",
    "modelffn = Sequential()\n",
    "modelffn.add(Dense(2, input_dim=X.shape[1], init='normal', activation='softmax'))\n",
    "modelffn.compile(loss='categorical_crossentropy', optimizer='rmsprop', metrics=['accuracy'])\n",
    "modelffn.fit(X, y, nb_epoch=1000,verbose=0)\n",
    "score = modelffn.evaluate(xtest, ytest, verbose=0)\n",
    "print('Test accuracy of Feedforward Network with RMS Optimizer:', score[1]*100)\n",
    "\n",
    "#Feedforward Network with SGD Optimizer\n",
    "modelffn = Sequential()\n",
    "modelffn.add(Dense(2, input_dim=X.shape[1], init='normal', activation='softmax'))\n",
    "modelffn.compile(loss='categorical_crossentropy', optimizer='sgd', metrics=['accuracy'])\n",
    "modelffn.fit(X, y, nb_epoch=1000,verbose=0)\n",
    "score = modelffn.evaluate(xtest, ytest, verbose=0)\n",
    "print('Test accuracy of Feedforward Network with SGD Optimizer:', score[1]*100)"
   ]
  }
 ],
 "metadata": {
  "anaconda-cloud": {},
  "kernelspec": {
   "display_name": "Python [conda root]",
   "language": "python",
   "name": "conda-root-py"
  },
  "language_info": {
   "codemirror_mode": {
    "name": "ipython",
    "version": 2
   },
   "file_extension": ".py",
   "mimetype": "text/x-python",
   "name": "python",
   "nbconvert_exporter": "python",
   "pygments_lexer": "ipython2",
   "version": "2.7.12"
  }
 },
 "nbformat": 4,
 "nbformat_minor": 1
}
