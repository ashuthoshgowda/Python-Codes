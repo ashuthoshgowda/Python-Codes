{
 "cells": [
  {
   "cell_type": "code",
   "execution_count": 7,
   "metadata": {
    "collapsed": true
   },
   "outputs": [],
   "source": [
    "#Question 4.1\n",
    "import numpy as np\n",
    "import matplotlib.pyplot as plt\n",
    "import pickle\n",
    "import pandas as pd\n",
    "\n",
    "N = 100 # number of points per class\n",
    "D = 2 # dimensionality\n",
    "K = 3 # number of classes\n",
    "X = np.zeros((N*K,D))\n",
    "y = np.zeros(N*K, dtype='uint8')\n",
    "for j in range(K):\n",
    "  ix = range(N*j,N*(j+1))\n",
    "  r = np.linspace(0.0,1,N) # radius\n",
    "  t = np.linspace(j*4,(j+1)*4,N) + np.random.randn(N)*0.2 # theta\n",
    "  X[ix] = np.c_[r*np.sin(t), r*np.cos(t)]\n",
    "  y[ix] = j\n",
    "\n",
    "pickle.dump(X,open('dataX.pickle','wb'))\n",
    "pickle.dump(y,open('dataY.pickle','wb'))"
   ]
  },
  {
   "cell_type": "code",
   "execution_count": 24,
   "metadata": {
    "collapsed": false
   },
   "outputs": [
    {
     "name": "stdout",
     "output_type": "stream",
     "text": [
      " Training Dataset X Shape :  (240, 2)\n",
      " Test Dataset X Shape :  (60, 2)\n",
      " Training Dataset Y Shape :  (240,)\n",
      " Test Dataset Y Shape :  (60,)\n"
     ]
    }
   ],
   "source": [
    "#Question 4.2\n",
    "from sklearn.model_selection import train_test_split\n",
    "data_X_train, data_X_test, data_Y_train, data_Y_test = train_test_split(X, y, test_size=0.20)\n",
    "print (\" Training Dataset X Shape : \",data_X_train.shape)\n",
    "print (\" Test Dataset X Shape : \",data_X_test.shape)\n",
    "print (\" Training Dataset Y Shape : \",data_Y_train.shape)\n",
    "print (\" Test Dataset Y Shape : \",data_Y_test.shape)"
   ]
  },
  {
   "cell_type": "code",
   "execution_count": 32,
   "metadata": {
    "collapsed": true
   },
   "outputs": [],
   "source": [
    "#Question 4.3\n",
    "#Perform batch SGD using backprop\n",
    "def Classifier(X,y):\n",
    "    #Perform batch SGD using backprop\n",
    "    D = X.shape[1] #Number of features\n",
    "    K = 3 #Number of classes assuming class index starts from 0\n",
    "\n",
    "    # Start with an initialize parameters randomly\n",
    "\n",
    "\n",
    "    # Initial values from hyperparameter\n",
    "    reg = 0.2 # regularization strength\n",
    "    np.random.seed(1234)\n",
    "    W = 0.01 * np.random.randn(D,K)\n",
    "    b = np.zeros((1,K))\n",
    "\n",
    "    #For simplicity we will take the batch size to be the same as number of examples\n",
    "    num_examples = X.shape[0]\n",
    "\n",
    "    #Initial value for the Gradient Descent Parameter\n",
    "    step_size = 0.01 #Also called learning rate\n",
    "\n",
    "    #For simplicity, we will not hand tune this algorithm parameter as well.\n",
    "\n",
    "    # gradient descent loop\n",
    "    for i in range(500):\n",
    "  \n",
    "        # evaluate class scores, [N x K]\n",
    "        scores = np.dot(X, W) + b \n",
    "  \n",
    "        # compute the class probabilities\n",
    "        exp_scores = np.exp(scores)\n",
    "        probs = exp_scores / np.sum(exp_scores, axis=1, keepdims=True) # [N x K]\n",
    "  \n",
    "        # compute the loss: average cross-entropy loss and regularization\n",
    "        corect_logprobs = -np.log(probs[range(num_examples),y])\n",
    "        data_loss = np.sum(corect_logprobs)/num_examples\n",
    "        reg_loss = 0.5*reg*np.sum(W*W)\n",
    "        loss = data_loss + reg_loss\n",
    "        #if i % 10 == 0:\n",
    "            #print \"iteration %d: loss %f\" % (i, loss)\n",
    "  \n",
    "        # compute the gradient on scores\n",
    "        dscores = probs\n",
    "        dscores[range(num_examples),y] -= 1\n",
    "        dscores /= num_examples\n",
    "  \n",
    "        # backpropate the gradient to the parameters (W,b)\n",
    "        dW = np.dot(X.T, dscores)\n",
    "        db = np.sum(dscores, axis=0, keepdims=True)\n",
    "  \n",
    "        dW += reg*W # regularization gradient\n",
    "  \n",
    "        # perform a parameter update\n",
    "        W += -step_size * dW\n",
    "        b += -step_size * db\n",
    "    return(W,b)"
   ]
  },
  {
   "cell_type": "code",
   "execution_count": 47,
   "metadata": {
    "collapsed": false
   },
   "outputs": [
    {
     "name": "stdout",
     "output_type": "stream",
     "text": [
      "Train accuracy: 55.00\n",
      "Test accuracy: 55.00\n"
     ]
    }
   ],
   "source": [
    "#Question 4.3\n",
    "W1,b1=Classifier(data_X_train,data_Y_train)\n",
    "train_scores=np.dot(data_X_train,W1) + b1\n",
    "test_scores = np.dot(data_X_test, W1) + b1\n",
    "predicted_class_train = np.argmax(train_scores, axis=1)\n",
    "predicted_class_test = np.argmax(test_scores, axis=1)\n",
    "print ('Train accuracy: %.2f' % (np.mean(predicted_class_train == data_Y_train)*100))\n",
    "Test_Acc=(np.mean(predicted_class_test == data_Y_test)*100)\n",
    "print ('Test accuracy: %.2f' % Test_Acc)"
   ]
  },
  {
   "cell_type": "code",
   "execution_count": 48,
   "metadata": {
    "collapsed": false
   },
   "outputs": [
    {
     "name": "stdout",
     "output_type": "stream",
     "text": [
      "Validation Accuracy: 51.33\n",
      "Test Accuracy: 55.00\n"
     ]
    }
   ],
   "source": [
    "#Question 4.4\n",
    "from sklearn import cross_validation\n",
    "cv = cross_validation.KFold(len(X), n_folds=10,shuffle=True, random_state=None)\n",
    "#print(cv)\n",
    "#Define some local varaibles\n",
    "D = X.shape[1] #Number of features\n",
    "K = 3 #Number of classes assuming class index starts from 0\n",
    "\n",
    "# Start with an initialize parameters randomly\n",
    "\n",
    "\n",
    "# Initial values from hyperparameter\n",
    "reg = 1e-3 # regularization strength\n",
    "\n",
    "\n",
    "result=[]\n",
    "\n",
    "for traincv,testcv in cv:\n",
    "   \n",
    "    X_train, X_test = X[traincv], X[testcv]\n",
    "    y_train, y_test = y[traincv], y[testcv]\n",
    "    W1,b1=Classifier(X_train,y_train)\n",
    "       #print(type(X[testcv]))\n",
    "    #print(W1,b1)\n",
    "    \n",
    "    scores = np.dot(X_test, W1) + b1\n",
    "    predicted_class = np.argmax(scores, axis=1)\n",
    "    result.append(np.mean(predicted_class == y_test))\n",
    "print (\"Validation Accuracy: %.2f\" % (np.array(result).mean()*100))\n",
    "print (\"Test Accuracy: %.2f\" % Test_Acc) \n"
   ]
  },
  {
   "cell_type": "code",
   "execution_count": 50,
   "metadata": {
    "collapsed": true
   },
   "outputs": [],
   "source": [
    "#Question 4.5\n",
    "def classifier1(X,y,s,r,g_iter):\n",
    "    #Perform batch SGD using backprop\n",
    "    D = X.shape[1] #Number of features\n",
    "    K = 3 #Number of classes assuming class index starts from 0\n",
    "\n",
    "    # Start with an initialize parameters randomly\n",
    "\n",
    "    \n",
    "    # Initial values from hyperparameter\n",
    "    reg = r # regularization strength\n",
    "    \n",
    "    np.random.seed(1234)\n",
    "    W = 0.01 * np.random.randn(D,K)\n",
    "    b = np.zeros((1,K))\n",
    "#For simplicity we will take the batch size to be the same as number of examples\n",
    "    num_examples = X.shape[0]\n",
    "    \n",
    "    #Initial value for the Gradient Descent Parameter\n",
    "    step_size = s #Also called learning rate\n",
    "\n",
    "    #For simplicity, we will not hand tune this algorithm parameter as well.\n",
    "\n",
    "    # gradient descent loop\n",
    "    for i in range(g_iter):\n",
    "  \n",
    "    # evaluate class scores, [N x K]\n",
    "        scores = np.dot(X, W) + b \n",
    "  \n",
    "    # compute the class probabilities\n",
    "        exp_scores = np.exp(scores)\n",
    "        probs = exp_scores / np.sum(exp_scores, axis=1, keepdims=True) # [N x K]\n",
    "    \n",
    "    # compute the loss: average cross-entropy loss and regularization\n",
    "        corect_logprobs = -np.log(probs[range(num_examples),y])\n",
    "        data_loss = np.sum(corect_logprobs)/num_examples\n",
    "        reg_loss = 0.5*reg*np.sum(W*W)\n",
    "        loss = data_loss + reg_loss\n",
    "        #if i % 10 == 0:\n",
    "            #print \"iteration %d: loss %f\" % (i, loss)\n",
    "  \n",
    "    # compute the gradient on scores\n",
    "        dscores = probs\n",
    "        dscores[range(num_examples),y] -= 1\n",
    "        dscores /= num_examples\n",
    "  \n",
    "    # backpropate the gradient to the parameters (W,b)\n",
    "        dW = np.dot(X.T, dscores)\n",
    "        db = np.sum(dscores, axis=0, keepdims=True)\n",
    "  \n",
    "        dW += reg*W # regularization gradient\n",
    "  \n",
    "    # perform a parameter update\n",
    "        W += -step_size * dW\n",
    "        b += -step_size * db\n",
    "    \n",
    "    return(W,b)"
   ]
  },
  {
   "cell_type": "code",
   "execution_count": 52,
   "metadata": {
    "collapsed": false
   },
   "outputs": [
    {
     "data": {
      "image/png": "[encoded data removed]",
      "text/plain": [
       "<matplotlib.figure.Figure at 0x1e9243fb198>"
      ]
     },
     "metadata": {},
     "output_type": "display_data"
    }
   ],
   "source": [
    "\n",
    "regu_rate=[]\n",
    "result=[]\n",
    "W1=[]\n",
    "b1=[]\n",
    "W = 0.01 * np.random.randn(D,K)\n",
    "b = np.zeros((1,K))\n",
    "giter=[20,50,100,200,500]\n",
    "for j in giter[:]:\n",
    "    learning_rate=[]\n",
    "    result=[]\n",
    "    for i in range(100):\n",
    "        learning_rate.append(0.001*i)\n",
    "        W1,b1= classifier1(data_X_train,data_Y_train,0.001*i,0.5,j)\n",
    "        scores = np.dot(data_X_test, W1) + b1\n",
    "        predicted_class = np.argmax(scores, axis=1)\n",
    "        result.append(np.mean(predicted_class == data_Y_test))    \n",
    "    plt.plot(learning_rate,result)\n",
    "plt.suptitle('Accuracy vs Learning Rate')\n",
    "plt.xlabel('Learning Rate')\n",
    "plt.ylabel('Accuracy')\n",
    "plt.legend(['20', '50', '100', '200','500'], loc='upper right')\n",
    "plt.show()\n"
   ]
  },
  {
   "cell_type": "code",
   "execution_count": 74,
   "metadata": {
    "collapsed": false
   },
   "outputs": [
    {
     "data": {
      "image/png": "[encoded data removed]",
      "text/plain": [
       "<matplotlib.figure.Figure at 0x1e92493a860>"
      ]
     },
     "metadata": {},
     "output_type": "display_data"
    },
    {
     "name": "stdout",
     "output_type": "stream",
     "text": [
      "Best Accuracy with Regularization parameter  : 63.33 \n",
      "Best Regularization parameter with Regularization parameter : 1.95000\n",
      "Best Accuracy without Regularization parameter  : 56.67 \n"
     ]
    }
   ],
   "source": [
    "#Question 4.6\n",
    "accuracy=[]\n",
    "learning_rate=[]\n",
    "regu_rate=[]\n",
    "resultl=[]\n",
    "W1=[]\n",
    "b1=[]\n",
    "resultr=[]\n",
    "for j in range(200):\n",
    "    regu_rate.append(0.05*j)\n",
    "    W1,b1= classifier1(data_X_train,data_Y_train,0.01,0.05*j,200)\n",
    "    scores1 = np.dot(data_X_test, W1) + b1\n",
    "    predicted_class = np.argmax(scores1, axis=1)\n",
    "    resultr.append(np.mean(predicted_class == data_Y_test))\n",
    "plt.plot(regu_rate,resultr)\n",
    "plt.suptitle('Accuracy vs Regularisation Rate With Regularization')\n",
    "plt.xlabel('Regularisation Rate')\n",
    "plt.ylabel('Accuracy')\n",
    "plt.show()\n",
    "max_acc=max(resultr)\n",
    "index=resultr.index(max_acc)\n",
    "print (\"Best Accuracy with Regularization parameter  : %.2f \" % (max_acc*100))\n",
    "print (\"Best Regularization parameter with Regularization parameter : %.5f\" % regu_rate[index])\n",
    "resultr1=[]\n",
    "for j1 in range(200):\n",
    "    W2,b2= classifier1(data_X_train,data_Y_train,0.01,0,200)\n",
    "    scores2 = np.dot(data_X_test, W2) + b2\n",
    "    predicted_class2 = np.argmax(scores2, axis=1)\n",
    "    resultr1.append(np.mean(predicted_class2 == data_Y_test))\n",
    "max_acc1=max(resultr1)\n",
    "index1=resultr1.index(max_acc1)\n",
    "print (\"Best Accuracy without Regularization parameter  : %.2f \" % (max_acc1*100))\n"
   ]
  },
  {
   "cell_type": "code",
   "execution_count": 77,
   "metadata": {
    "collapsed": false
   },
   "outputs": [
    {
     "name": "stdout",
     "output_type": "stream",
     "text": [
      " Train accuracy with 50:50 split: 64.67\n",
      " Test accuracy with 50:50 split: 57.33\n"
     ]
    }
   ],
   "source": [
    "#Question 4.7\n",
    "data_X_train50, data_X_test50, data_Y_train50, data_Y_test50 = train_test_split(X, y, test_size=0.50)\n",
    "W1_50,b1_50=Classifier(data_X_train50,data_Y_train50)\n",
    "train_scores50=np.dot(data_X_train50,W1_50) + b1_50\n",
    "test_scores50 = np.dot(data_X_test50, W1_50) + b1_50\n",
    "predicted_class_train50 = np.argmax(train_scores50, axis=1)\n",
    "predicted_class_test50 = np.argmax(test_scores50, axis=1)\n",
    "print (' Train accuracy with 50:50 split: %.2f' % (np.mean(predicted_class_train50 == data_Y_train50)*100))\n",
    "Test_Acc50=(np.mean(predicted_class_test50 == data_Y_test50)*100)\n",
    "print (' Test accuracy with 50:50 split: %.2f' % Test_Acc50)"
   ]
  }
 ],
 "metadata": {
  "kernelspec": {
   "display_name": "Python [conda env:py35]",
   "language": "python",
   "name": "conda-env-py35-py"
  },
  "language_info": {
   "codemirror_mode": {
    "name": "ipython",
    "version": 3
   },
   "file_extension": ".py",
   "mimetype": "text/x-python",
   "name": "python",
   "nbconvert_exporter": "python",
   "pygments_lexer": "ipython3",
   "version": "3.5.2"
  }
 },
 "nbformat": 4,
 "nbformat_minor": 2
}
