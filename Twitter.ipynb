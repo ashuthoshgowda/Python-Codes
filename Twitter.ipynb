{
 "cells": [
  {
   "cell_type": "code",
   "execution_count": 5,
   "metadata": {
    "collapsed": false
   },
   "outputs": [],
   "source": [
    "import tweepy"
   ]
  },
  {
   "cell_type": "code",
   "execution_count": 2,
   "metadata": {
    "collapsed": true
   },
   "outputs": [],
   "source": [
    "import tweepy\n",
    "from tweepy import OAuthHandler\n",
    " \n",
    "consumer_key = 'insertkey'\n",
    "consumer_secret = 'insertsecret'\n",
    "access_token = 'inserttoken'\n",
    "access_secret = 'insertaccesssecret'\n",
    " \n",
    "auth = OAuthHandler(consumer_key, consumer_secret)\n",
    "auth.set_access_token(access_token, access_secret)\n",
    " \n",
    "api = tweepy.API(auth)"
   ]
  },
  {
   "cell_type": "code",
   "execution_count": 3,
   "metadata": {
    "collapsed": false
   },
   "outputs": [],
   "source": [
    "from twitter import Twitter, OAuth, TwitterHTTPError, TwitterStream\n",
    "\n",
    "\n",
    "oauth = OAuth(access_token, access_secret, consumer_key, consumer_secret)\n",
    "\n",
    "twitter = Twitter(auth=oauth)"
   ]
  },
  {
   "cell_type": "code",
   "execution_count": 4,
   "metadata": {
    "collapsed": false
   },
   "outputs": [
    {
     "name": "stdout",
     "output_type": "stream",
     "text": [
      "Darragh From 'The Chase' speaks out after 'thieving' teammates take ridiculous offers. https://t.co/N4BKi7MNk5 https://t.co/akgEvrxWEc\n",
      "🗣 \"It's a wonderful opportunity.\"\n",
      "\n",
      "Jürgen Klopp reveals the benefits of training in Tenerife:… https://t.co/1yJZXwbJFo\n",
      "RT @5liveSport: \"Mourinho saw Schweinsteiger as a symbol of the Louis van Gaal era\"\n",
      "\n",
      "Did the German have more to offer at #MUFC? https://t.…\n",
      "\"Frugal innovation is not simply about making do; it’s about making things better.\" https://t.co/o3CAz9aMp5\n",
      "RT @Iandennisbbc: Gary Cahill confirmed as Capt for the friendly in Dortmund #CFC\n",
      "#SM20 https://t.co/hT6dQsiXeO\n",
      "Find out which 14 #MUFC players could be in action during the international break: https://t.co/61HBnBfZEu https://t.co/d2NYGJlqTJ\n",
      "#LFCU23s will face Norwich City in the quarter-finals of the #PLCup.\n",
      "\n",
      "View highlights of the young Reds' recent win… https://t.co/7BYZoqgoGu\n",
      "Woman's vagina 'grew teeth' and left her lover's penis spouting blood. https://t.co/0Ep8ZLfl8D https://t.co/63c6hknP10\n",
      "The book #TheElephantTheTigerAndTheCellphone is ten years old now. The show is even older! Time moves on, as did… https://t.co/6b0nCV0cOc\n"
     ]
    }
   ],
   "source": [
    "for status in tweepy.Cursor(api.home_timeline).items(10):\n",
    "    # Process a single status\n",
    "    print(status.text) "
   ]
  },
  {
   "cell_type": "code",
   "execution_count": 79,
   "metadata": {
    "collapsed": false
   },
   "outputs": [],
   "source": [
    "page_list=[]\n",
    "Harsha=[]\n",
    "for page in tweepy.Cursor(api.user_timeline,screen_name = 'mbrahm4', count=3199, include_rts=True).pages(16):\n",
    "    page_list.append(page)\n",
    "    \n",
    "for page in page_list:\n",
    "    for status in page:\n",
    "       Harsha.append(status.text)"
   ]
  },
  {
   "cell_type": "code",
   "execution_count": 80,
   "metadata": {
    "collapsed": false,
    "scrolled": true
   },
   "outputs": [],
   "source": [
    "# join tweets to a single string\n",
    "words = ' '.join(Harsha)\n",
    "\n",
    "# remove URLs, RTs, and twitter handles\n",
    "final = \" \".join([word for word in words.split()\n",
    "                            if 'http' not in word\n",
    "                                #and not word.startswith('@')\n",
    "                                and word != 'RT'\n",
    "                            ])\n",
    "#print(final)"
   ]
  },
  {
   "cell_type": "code",
   "execution_count": 82,
   "metadata": {
    "collapsed": false
   },
   "outputs": [],
   "source": [
    "# Simple WordCloud\n",
    "from os import path\n",
    "from scipy.misc import imread\n",
    "import matplotlib.pyplot as plt\n",
    "import random\n",
    "\n",
    "from wordcloud import WordCloud, STOPWORDS\n",
    "\n",
    "text = 'all your base are belong to us all of your base base base'\n",
    "wordcloud = WordCloud(\n",
    "                          stopwords=STOPWORDS,\n",
    "                          background_color='black',\n",
    "                        \n",
    "                          ).generate(final)\n",
    "plt.imshow(wordcloud)\n",
    "plt.axis(\"off\")\n",
    "plt.savefig('Kaaju.png', bbox_inches='tight')\n",
    "#"
   ]
  },
  {
   "cell_type": "code",
   "execution_count": 72,
   "metadata": {
    "collapsed": false
   },
   "outputs": [],
   "source": []
  },
  {
   "cell_type": "code",
   "execution_count": null,
   "metadata": {
    "collapsed": false
   },
   "outputs": [],
   "source": []
  },
  {
   "cell_type": "code",
   "execution_count": null,
   "metadata": {
    "collapsed": false,
    "scrolled": false
   },
   "outputs": [],
   "source": []
  },
  {
   "cell_type": "code",
   "execution_count": 52,
   "metadata": {
    "collapsed": false
   },
   "outputs": [],
   "source": []
  },
  {
   "cell_type": "code",
   "execution_count": 38,
   "metadata": {
    "collapsed": false
   },
   "outputs": [
    {
     "data": {
      "text/plain": [
       "'C:\\\\Users\\\\Ashuthosh\\\\Documents'"
      ]
     },
     "execution_count": 38,
     "metadata": {},
     "output_type": "execute_result"
    }
   ],
   "source": [
    "import os\n",
    "cwd = os.getcwd()\n",
    "cwd"
   ]
  },
  {
   "cell_type": "code",
   "execution_count": null,
   "metadata": {
    "collapsed": true
   },
   "outputs": [],
   "source": []
  }
 ],
 "metadata": {
  "anaconda-cloud": {},
  "kernelspec": {
   "display_name": "Python [default]",
   "language": "python",
   "name": "python2"
  },
  "language_info": {
   "codemirror_mode": {
    "name": "ipython",
    "version": 2
   },
   "file_extension": ".py",
   "mimetype": "text/x-python",
   "name": "python",
   "nbconvert_exporter": "python",
   "pygments_lexer": "ipython2",
   "version": "2.7.12"
  }
 },
 "nbformat": 4,
 "nbformat_minor": 1
}
