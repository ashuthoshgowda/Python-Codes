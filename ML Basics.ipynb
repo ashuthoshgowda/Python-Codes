{
 "cells": [
  {
   "cell_type": "code",
   "execution_count": 3,
   "metadata": {
    "collapsed": true
   },
   "outputs": [],
   "source": [
    "import numpy as np\n",
    "import matplotlib.pyplot as plt\n",
    "import pickle\n",
    "import pandas as pd\n",
    "\n",
    "N = 100 # number of points per class\n",
    "D = 2 # dimensionality\n",
    "K = 3 # number of classes\n",
    "X = np.zeros((N*K,D))\n",
    "y = np.zeros(N*K, dtype='uint8')\n",
    "for j in range(K):\n",
    "  ix = range(N*j,N*(j+1))\n",
    "  r = np.linspace(0.0,1,N) # radius\n",
    "  t = np.linspace(j*4,(j+1)*4,N) + np.random.randn(N)*0.2 # theta\n",
    "  X[ix] = np.c_[r*np.sin(t), r*np.cos(t)]\n",
    "  y[ix] = j\n",
    "\n",
    "pickle.dump(X,open('dataX.pickle','wb'))\n",
    "pickle.dump(y,open('dataY.pickle','wb'))"
   ]
  },
  {
   "cell_type": "code",
   "execution_count": 4,
   "metadata": {
    "collapsed": true
   },
   "outputs": [],
   "source": [
    "#Question 3.1\n",
    "\n",
    "def logloss(w,b,x,y,r):\n",
    "    scores = np.dot(x, w) + b \n",
    "    if r == 1:\n",
    "        l=w\n",
    "    else:\n",
    "        l=w*w\n",
    "    reg=0.5\n",
    "    # compute the class probabilities\n",
    "    exp_scores = np.exp(scores)\n",
    "    probs = exp_scores / np.sum(exp_scores, axis=1, keepdims=True) # [N x K]\n",
    "    num_examples=x.shape[0]\n",
    "    # compute the loss: average cross-entropy loss and regularization\n",
    "    corect_logprobs = -np.log(probs[range(num_examples),y])\n",
    "    data_loss = np.sum(corect_logprobs)/num_examples\n",
    "    reg_loss = 0.5*reg*np.sum(l)\n",
    "    loss = data_loss + reg_loss\n",
    "    \n",
    "    return loss"
   ]
  },
  {
   "cell_type": "code",
   "execution_count": 5,
   "metadata": {
    "collapsed": true
   },
   "outputs": [],
   "source": [
    "#Question 3.2\n",
    "def svmloss(w,b,x,y,r):\n",
    "    if r == 1:\n",
    "        l=w\n",
    "    else:\n",
    "        l=w*w\n",
    "    reg=0.5\n",
    "    scores = np.dot(x,w) + b\n",
    "    num_ex=x.shape[0]\n",
    "    data_loss = np.sum(np.maximum(0,np.max(scores)-scores[range(num_ex),y]))\n",
    "    reg_loss = 0.5*reg*np.sum(l)\n",
    "    loss = data_loss + reg_loss\n",
    "    return loss"
   ]
  },
  {
   "cell_type": "code",
   "execution_count": 6,
   "metadata": {
    "collapsed": false
   },
   "outputs": [
    {
     "name": "stdout",
     "output_type": "stream",
     "text": [
      "('logloss for l1:', 1.1063351721120576)\n",
      "('svmloss for l1:', 7.2125260153910009)\n",
      "('logloss for l2:', 1.1015948251269474)\n",
      "('svmloss for l2:', 7.2077856684058901)\n"
     ]
    }
   ],
   "source": [
    "#Question 3.3\n",
    "\n",
    "W = 0.01 * np.random.randn(D,K)\n",
    "b = np.zeros((1,K))\n",
    "log_loss1= logloss(W,b,X,y,1)\n",
    "print(\"logloss for l1:\", log_loss1)\n",
    "svm_loss1= svmloss(W,b,X,y,1)\n",
    "print(\"svmloss for l1:\", svm_loss1)\n",
    "log_loss2= logloss(W,b,X,y,2)\n",
    "print(\"logloss for l2:\", log_loss2)\n",
    "svm_loss2= svmloss(W,b,X,y,2)\n",
    "print(\"svmloss for l2:\", svm_loss2)\n"
   ]
  },
  {
   "cell_type": "code",
   "execution_count": null,
   "metadata": {
    "collapsed": true
   },
   "outputs": [],
   "source": []
  }
 ],
 "metadata": {
  "kernelspec": {
   "display_name": "Python [default]",
   "language": "python",
   "name": "python2"
  },
  "language_info": {
   "codemirror_mode": {
    "name": "ipython",
    "version": 2
   },
   "file_extension": ".py",
   "mimetype": "text/x-python",
   "name": "python",
   "nbconvert_exporter": "python",
   "pygments_lexer": "ipython2",
   "version": "2.7.12"
  }
 },
 "nbformat": 4,
 "nbformat_minor": 1
}
