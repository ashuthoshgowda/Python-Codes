{
 "cells": [
  {
   "cell_type": "code",
   "execution_count": 1,
   "metadata": {
    "collapsed": false
   },
   "outputs": [
    {
     "name": "stdout",
     "output_type": "stream",
     "text": [
      "Extracting MNIST_data/train-images-idx3-ubyte.gz\n",
      "Extracting MNIST_data/train-labels-idx1-ubyte.gz\n",
      "Extracting MNIST_data/t10k-images-idx3-ubyte.gz\n",
      "Extracting MNIST_data/t10k-labels-idx1-ubyte.gz\n"
     ]
    }
   ],
   "source": [
    "from tensorflow.examples.tutorials.mnist import input_data\n",
    "mnist = input_data.read_data_sets(\"MNIST_data/\", one_hot=True)"
   ]
  },
  {
   "cell_type": "code",
   "execution_count": 2,
   "metadata": {
    "collapsed": false
   },
   "outputs": [],
   "source": [
    "import numpy as np\n",
    "import matplotlib.pyplot as plt\n",
    "from sklearn.model_selection import train_test_split"
   ]
  },
  {
   "cell_type": "code",
   "execution_count": 3,
   "metadata": {
    "collapsed": true
   },
   "outputs": [],
   "source": [
    "data_X_train=mnist.train.images\n",
    "data_X_test=mnist.test.images\n",
    "data_Y_trn=mnist.train.labels\n",
    "data_Y_tst=mnist.test.labels"
   ]
  },
  {
   "cell_type": "code",
   "execution_count": 4,
   "metadata": {
    "collapsed": false
   },
   "outputs": [
    {
     "name": "stdout",
     "output_type": "stream",
     "text": [
      "55000\n",
      "10000\n"
     ]
    }
   ],
   "source": [
    "#Converting y label from one hot code to categorical \n",
    "\n",
    "data_Y_train=[]\n",
    "for j in range(55000):\n",
    "    for i in range(10):\n",
    "        if data_Y_trn[j][i]>0.8:\n",
    "            data_Y_train.append(i)\n",
    "print(len(data_Y_train))\n",
    "\n",
    "\n",
    "data_Y_test=[]\n",
    "for j in range(10000):\n",
    "    for i in range(10):\n",
    "        if data_Y_tst[j][i]>0.8:\n",
    "            data_Y_test.append(i)\n",
    "print(len(data_Y_test))\n"
   ]
  },
  {
   "cell_type": "code",
   "execution_count": 5,
   "metadata": {
    "collapsed": false
   },
   "outputs": [],
   "source": [
    "data_Y_train=np.asarray(data_Y_train)\n",
    "data_Y_test=np.asarray(data_Y_test)\n"
   ]
  },
  {
   "cell_type": "code",
   "execution_count": 6,
   "metadata": {
    "collapsed": true
   },
   "outputs": [],
   "source": [
    "def classifier(X,y,s,r,g_iter):\n",
    "    #Perform batch SGD using backprop\n",
    "    D = X.shape[1] #Number of features\n",
    "    K = 10 #Number of classes assuming class index starts from 0\n",
    "\n",
    "    # Start with an initialize parameters randomly\n",
    "\n",
    "    \n",
    "    # Initial values from hyperparameter\n",
    "    reg = r # regularization strength\n",
    "    \n",
    "    np.random.seed(1234)\n",
    "    W = 0.01 * np.random.randn(D,K)\n",
    "    b = np.zeros((1,K))\n",
    "#For simplicity we will take the batch size to be the same as number of examples\n",
    "    num_examples = X.shape[0]\n",
    "    \n",
    "    #Initial value for the Gradient Descent Parameter\n",
    "    step_size = s #Also called learning rate\n",
    "\n",
    "    #For simplicity, we will not hand tune this algorithm parameter as well.\n",
    "\n",
    "    # gradient descent loop\n",
    "    for i in range(g_iter):\n",
    "  \n",
    "    # evaluate class scores, [N x K]\n",
    "        scores = np.dot(X, W) + b \n",
    "        \n",
    "    # compute the class probabilities\n",
    "        exp_scores = np.exp(scores)\n",
    "        probs = exp_scores / np.sum(exp_scores, axis=1, keepdims=True) # [N x K]\n",
    "    \n",
    "    # compute the loss: average cross-entropy loss and regularization\n",
    "        corect_logprobs = -np.log(probs[range(num_examples),y])\n",
    "        data_loss = np.sum(corect_logprobs)/num_examples\n",
    "        reg_loss = 0.5*reg*np.sum(W*W)\n",
    "        loss = data_loss + reg_loss\n",
    "        #if i % 0 == 0:\n",
    "            #print (\"iteration %d: loss %f\" % (i, loss))\n",
    "  \n",
    "    # compute the gradient on scores\n",
    "        dscores = probs\n",
    "        dscores[range(num_examples),y] -= 1\n",
    "        dscores /= num_examples\n",
    "  \n",
    "    # backpropate the gradient to the parameters (W,b)\n",
    "        dW = np.dot(X.T, dscores)\n",
    "        db = np.sum(dscores, axis=0, keepdims=True)\n",
    "  \n",
    "        dW += reg*W # regularization gradient\n",
    "  \n",
    "    # perform a parameter update\n",
    "        W += -step_size * dW\n",
    "        b += -step_size * db\n",
    "    \n",
    "    return(W,b)"
   ]
  },
  {
   "cell_type": "code",
   "execution_count": 7,
   "metadata": {
    "collapsed": false
   },
   "outputs": [
    {
     "name": "stdout",
     "output_type": "stream",
     "text": [
      "train accuracy: 83.15\n",
      "Test accuracy: 84.16\n"
     ]
    }
   ],
   "source": [
    "#Question 6.1.4.3\n",
    "W,b= classifier(data_X_train,data_Y_train,0.4,0.002,10)\n",
    "\n",
    "scores = np.dot(data_X_train, W) + b\n",
    "predicted_class = np.argmax(scores, axis=1)\n",
    "\n",
    "print ('train accuracy: %.2f' % (np.mean(predicted_class == data_Y_train)*100))\n",
    "\n",
    "scores = np.dot(data_X_test,W) + b\n",
    "predicted_class = np.argmax(scores, axis=1)\n",
    "Test_Acc=(np.mean(predicted_class == data_Y_test)*100)\n",
    "print ('Test accuracy: %.2f' % Test_Acc)"
   ]
  },
  {
   "cell_type": "code",
   "execution_count": 8,
   "metadata": {
    "collapsed": false
   },
   "outputs": [
    {
     "name": "stderr",
     "output_type": "stream",
     "text": [
      "C:\\Users\\Abhishek Singh\\Anaconda3\\lib\\site-packages\\sklearn\\cross_validation.py:44: DeprecationWarning: This module was deprecated in version 0.18 in favor of the model_selection module into which all the refactored classes and functions are moved. Also note that the interface of the new CV iterators are different from that of this module. This module will be removed in 0.20.\n",
      "  \"This module will be removed in 0.20.\", DeprecationWarning)\n"
     ]
    },
    {
     "name": "stdout",
     "output_type": "stream",
     "text": [
      "Validation Accuracy: 81.68\n",
      "Test Accuracy: 84.16\n"
     ]
    }
   ],
   "source": [
    "#Question 6.1.4.4\n",
    "from sklearn import cross_validation\n",
    "cv = cross_validation.KFold(len(data_X_train), n_folds=10,shuffle=True, random_state=None)\n",
    "#print(cv)\n",
    "#Define some local varaibles\n",
    "D = data_X_train.shape[1] #Number of features\n",
    "K = 10 #Number of classes assuming class index starts from 0\n",
    "\n",
    "# Start with an initialize parameters randomly\n",
    "\n",
    "\n",
    "# Initial values from hyperparameter\n",
    "reg = 1e-3 # regularization strength\n",
    "\n",
    "\n",
    "result=[]\n",
    "\n",
    "for traincv,testcv in cv:\n",
    "   \n",
    "    X_train, X_test = data_X_train[traincv], data_X_train[testcv]\n",
    "    y_train, y_test = data_Y_train[traincv], data_Y_train[testcv]\n",
    "    W1,b1=classifier(X_train,y_train,0.6,0.002,10)\n",
    "       #print(type(X[testcv]))\n",
    "    #print(W1,b1)\n",
    "    \n",
    "    scores = np.dot(X_test, W1) + b1\n",
    "    predicted_class = np.argmax(scores, axis=1)\n",
    "    result.append(np.mean(predicted_class == y_test))\n",
    "print (\"Validation Accuracy: %.2f\" % (np.array(result).mean()*100))\n",
    "print (\"Test Accuracy: %.2f\" % Test_Acc) \n"
   ]
  },
  {
   "cell_type": "code",
   "execution_count": 43,
   "metadata": {
    "collapsed": false
   },
   "outputs": [
    {
     "data": {
      "image/png": "[encoded data removed]",
      "text/plain": [
       "<matplotlib.figure.Figure at 0x16e8ad89c50>"
      ]
     },
     "metadata": {},
     "output_type": "display_data"
    }
   ],
   "source": [
    "#Question 6.1.4.6\n",
    "regu_rate=[]\n",
    "result=[]\n",
    "W1=[]\n",
    "b1=[]\n",
    "W = 0.01 * np.random.randn(D,K)\n",
    "b = np.zeros((1,K))\n",
    "giter=[2,5,10]\n",
    "for j in giter[:]:\n",
    "    learning_rate=[]\n",
    "    result=[]\n",
    "    for i in range(10):\n",
    "        learning_rate.append(0.1*i)\n",
    "        W1,b1= classifier(data_X_train,data_Y_train,0.1*i,0.005,j)\n",
    "        scores = np.dot(data_X_test, W1) + b1\n",
    "        predicted_class = np.argmax(scores, axis=1)\n",
    "        result.append(np.mean(predicted_class == data_Y_test))    \n",
    "    plt.plot(learning_rate,result)\n",
    "plt.suptitle('Accuracy vs Learning Rate')\n",
    "plt.xlabel('Learning Rate')\n",
    "plt.ylabel('Accuracy')\n",
    "plt.legend(['2', '5', '10'], loc='upper right')\n",
    "plt.show()\n"
   ]
  },
  {
   "cell_type": "code",
   "execution_count": null,
   "metadata": {
    "collapsed": true
   },
   "outputs": [],
   "source": []
  },
  {
   "cell_type": "code",
   "execution_count": 47,
   "metadata": {
    "collapsed": false
   },
   "outputs": [
    {
     "data": {
      "image/png": "[encoded data removed]",
      "text/plain": [
       "<matplotlib.figure.Figure at 0x16e8acafb38>"
      ]
     },
     "metadata": {},
     "output_type": "display_data"
    },
    {
     "name": "stdout",
     "output_type": "stream",
     "text": [
      "Best Accuracy with Regularization parameter  : 81.79 \n",
      "Best Regularization parameter with Regularization parameter : 0.00000\n",
      "Best Accuracy without Regularization parameter  : 81.79 \n"
     ]
    }
   ],
   "source": [
    "#Question 6.1.4.6\n",
    "accuracy=[]\n",
    "learning_rate=[]\n",
    "regu_rate=[]\n",
    "resultl=[]\n",
    "W1=[]\n",
    "b1=[]\n",
    "resultr=[]\n",
    "for j in range(10):\n",
    "    regu_rate.append(0.1*j)\n",
    "    W1,b1= classifier(data_X_train,data_Y_train,0.4,0.1*j,5)\n",
    "    scores1 = np.dot(data_X_test, W1) + b1\n",
    "    predicted_class = np.argmax(scores1, axis=1)\n",
    "    resultr.append(np.mean(predicted_class == data_Y_test))\n",
    "plt.plot(regu_rate,resultr)\n",
    "plt.suptitle('Accuracy vs Regularisation Rate With Regularization')\n",
    "plt.xlabel('Regularisation Rate')\n",
    "plt.ylabel('Accuracy')\n",
    "plt.show()\n",
    "max_acc=max(resultr)\n",
    "index=resultr.index(max_acc)\n",
    "print (\"Best Accuracy with Regularization parameter  : %.2f \" % (max_acc*100))\n",
    "print (\"Best Regularization parameter with Regularization parameter : %.5f\" % regu_rate[index])\n",
    "resultr1=[]\n",
    "for j1 in range(200):\n",
    "    W2,b2= classifier(data_X_train,data_Y_train,0.4,0,5)\n",
    "    scores2 = np.dot(data_X_test, W2) + b2\n",
    "    predicted_class2 = np.argmax(scores2, axis=1)\n",
    "    resultr1.append(np.mean(predicted_class2 == data_Y_test))\n",
    "max_acc1=max(resultr1)\n",
    "index1=resultr1.index(max_acc1)\n",
    "print (\"Best Accuracy without Regularization parameter  : %.2f \" % (max_acc1*100))\n"
   ]
  },
  {
   "cell_type": "code",
   "execution_count": null,
   "metadata": {
    "collapsed": false
   },
   "outputs": [],
   "source": [
    "#Question 6.1.4.7\n",
    "data_X_train50, data_X_test50, data_Y_train50, data_Y_test50 = train_test_split(data_X_train, data_Y_train, test_size=0.50)\n",
    "W1_50,b1_50=classifier(data_X_train50,data_Y_train50,0.4,0.001,10)\n",
    "train_scores50=np.dot(data_X_train50,W1_50) + b1_50\n",
    "test_scores50 = np.dot(data_X_test50, W1_50) + b1_50\n",
    "predicted_class_train50 = np.argmax(train_scores50, axis=1)\n",
    "predicted_class_test50 = np.argmax(test_scores50, axis=1)\n",
    "print (' Train accuracy with 50:50 split: %.2f' % (np.mean(predicted_class_train50 == data_Y_train50)*100))\n",
    "Test_Acc50=(np.mean(predicted_class_test50 == data_Y_test50)*100)\n",
    "print (' Test accuracy with 50:50 split: %.2f' % Test_Acc50)"
   ]
  },
  {
   "cell_type": "code",
   "execution_count": 37,
   "metadata": {
    "collapsed": false
   },
   "outputs": [],
   "source": [
    "def ffn(X,y,s,r,g_iter):\n",
    "    \n",
    "    \n",
    "    #For simplicity we will take the batch size to be the same as number of examples\n",
    "    num_examples = X.shape[0]\n",
    "    h = 100\n",
    "    D = data_X_train.shape[1] #Number of features\n",
    "    K = 10 #Number of classes assuming class index starts from 0\n",
    "\n",
    "    np.random.seed(1234)\n",
    "    W = 0.01 * np.random.randn(D,h)\n",
    "    b = np.zeros((1,h))\n",
    "    W2 = 0.01 * np.random.randn(h,K)\n",
    "    b2 = np.zeros((1,K))\n",
    "    \n",
    "    #Initial value for the Gradient Descent Parameter\n",
    "    step_size = s #Also called learning rate\n",
    "\n",
    "    #For simplicity, we will not hand tune this algorithm parameter as well.\n",
    "    reg= r\n",
    "    \n",
    "    # gradient descent loop\n",
    "    for i in range(g_iter):\n",
    "      \n",
    "  # evaluate class scores, [N x K]\n",
    "        hidden_layer = np.maximum(0, np.dot(X, W) + b) # note, ReLU activation\n",
    "        scores = np.dot(hidden_layer, W2) + b2\n",
    "  \n",
    "  # compute the class probabilities\n",
    "        exp_scores = np.exp(scores)\n",
    "        probs = exp_scores / np.sum(exp_scores, axis=1, keepdims=True) # [N x K]\n",
    "  \n",
    "  # compute the loss: average cross-entropy loss and regularization\n",
    "        corect_logprobs = -np.log(probs[range(num_examples),y])\n",
    "        data_loss = np.sum(corect_logprobs)/num_examples\n",
    "        reg_loss = 0.5*reg*np.sum(W*W) + 0.5*reg*np.sum(W2*W2)\n",
    "        loss = data_loss + reg_loss\n",
    "        #if i % 1 == 0:\n",
    "            #print (\"iteration %d: loss %f\" % (i, loss))\n",
    "  \n",
    "  # compute the gradient on scores\n",
    "        dscores = probs\n",
    "        dscores[range(num_examples),y] -= 1\n",
    "        dscores /= num_examples\n",
    "  \n",
    "  # backpropate the gradient to the parameters\n",
    "  # first backprop into parameters W2 and b2\n",
    "        dW2 = np.dot(hidden_layer.T, dscores)\n",
    "        db2 = np.sum(dscores, axis=0, keepdims=True)\n",
    "  # next backprop into hidden layer\n",
    "        dhidden = np.dot(dscores, W2.T)\n",
    "  # backprop the ReLU non-linearity\n",
    "        dhidden[hidden_layer <= 0] = 0\n",
    "  # finally into W,b\n",
    "        dW = np.dot(X.T, dhidden)\n",
    "        db = np.sum(dhidden, axis=0, keepdims=True)\n",
    "  \n",
    "  # add regularization gradient contribution\n",
    "        dW2 += reg * W2\n",
    "        dW += reg * W\n",
    "  \n",
    "  # perform a parameter update\n",
    "        W += -step_size * dW\n",
    "        b += -step_size * db\n",
    "        W2 += -step_size * dW2\n",
    "        b2 += -step_size * db2\n",
    "        \n",
    "    return(W,b,W2,b2)\n"
   ]
  },
  {
   "cell_type": "code",
   "execution_count": 30,
   "metadata": {
    "collapsed": false
   },
   "outputs": [
    {
     "name": "stdout",
     "output_type": "stream",
     "text": [
      "iteration 0: loss 2.306807\n",
      "iteration 1: loss 2.300714\n",
      "iteration 2: loss 2.293627\n",
      "iteration 3: loss 2.282990\n",
      "iteration 4: loss 2.265864\n",
      "iteration 5: loss 2.237904\n",
      "iteration 6: loss 2.192970\n",
      "iteration 7: loss 2.123399\n",
      "iteration 8: loss 2.021985\n",
      "iteration 9: loss 1.885761\n",
      "iteration 10: loss 1.720671\n",
      "iteration 11: loss 1.543479\n",
      "iteration 12: loss 1.375398\n",
      "iteration 13: loss 1.230259\n",
      "iteration 14: loss 1.110832\n",
      "iteration 15: loss 1.013873\n",
      "iteration 16: loss 0.935775\n",
      "iteration 17: loss 0.878395\n",
      "train accuracy: 75.92\n",
      "Test accuracy: 75.83\n"
     ]
    }
   ],
   "source": [
    "#Question 6.1.5.1.4.3\n",
    "W,b,W2,b2= ffn(data_X_train,data_Y_train,0.7,0.001,18)\n",
    "\n",
    "hidden_layer = np.maximum(0, np.dot(data_X_train, W) + b)\n",
    "scores = np.dot(hidden_layer, W2) + b2\n",
    "predicted_class = np.argmax(scores, axis=1)\n",
    "print ('train accuracy: %.2f' % (np.mean(predicted_class == data_Y_train)*100))\n",
    "\n",
    "hidden_layer = np.maximum(0, np.dot(data_X_test, W) + b)\n",
    "scores = np.dot(hidden_layer, W2) + b2\n",
    "predicted_class = np.argmax(scores, axis=1)\n",
    "Test_Acc=(np.mean(predicted_class == data_Y_test)*100)\n",
    "print ('Test accuracy: %.2f' % Test_Acc)"
   ]
  },
  {
   "cell_type": "code",
   "execution_count": 34,
   "metadata": {
    "collapsed": false
   },
   "outputs": [
    {
     "name": "stdout",
     "output_type": "stream",
     "text": [
      "iteration 0: loss 2.306822\n",
      "iteration 1: loss 2.303317\n",
      "iteration 2: loss 2.299668\n",
      "iteration 3: loss 2.295369\n",
      "iteration 4: loss 2.289932\n",
      "iteration 5: loss 2.282814\n",
      "iteration 6: loss 2.273324\n",
      "iteration 7: loss 2.260579\n",
      "iteration 8: loss 2.243492\n",
      "iteration 9: loss 2.220743\n",
      "iteration 10: loss 2.190804\n",
      "iteration 11: loss 2.152066\n",
      "iteration 12: loss 2.103018\n",
      "iteration 13: loss 2.042513\n",
      "iteration 14: loss 1.970089\n",
      "iteration 15: loss 1.886295\n",
      "iteration 16: loss 1.792959\n",
      "iteration 17: loss 1.693244\n",
      "iteration 0: loss 2.306796\n",
      "iteration 1: loss 2.303263\n",
      "iteration 2: loss 2.299579\n",
      "iteration 3: loss 2.295233\n",
      "iteration 4: loss 2.289736\n",
      "iteration 5: loss 2.282537\n",
      "iteration 6: loss 2.272938\n",
      "iteration 7: loss 2.260051\n",
      "iteration 8: loss 2.242771\n",
      "iteration 9: loss 2.219753\n",
      "iteration 10: loss 2.189438\n",
      "iteration 11: loss 2.150179\n",
      "iteration 12: loss 2.100426\n",
      "iteration 13: loss 2.039016\n",
      "iteration 14: loss 1.965531\n",
      "iteration 15: loss 1.880660\n",
      "iteration 16: loss 1.786425\n",
      "iteration 17: loss 1.686180\n",
      "iteration 0: loss 2.306802\n",
      "iteration 1: loss 2.303271\n",
      "iteration 2: loss 2.299590\n",
      "iteration 3: loss 2.295241\n",
      "iteration 4: loss 2.289721\n",
      "iteration 5: loss 2.282468\n",
      "iteration 6: loss 2.272769\n",
      "iteration 7: loss 2.259716\n",
      "iteration 8: loss 2.242186\n",
      "iteration 9: loss 2.218801\n",
      "iteration 10: loss 2.187987\n",
      "iteration 11: loss 2.148112\n",
      "iteration 12: loss 2.097692\n",
      "iteration 13: loss 2.035680\n",
      "iteration 14: loss 1.961789\n",
      "iteration 15: loss 1.876767\n",
      "iteration 16: loss 1.782616\n",
      "iteration 17: loss 1.682576\n",
      "Validation Accuracy: 68.27\n",
      "Test Accuracy: 75.83\n"
     ]
    }
   ],
   "source": [
    "#Question 6.1.5.1.4\n",
    "from sklearn import cross_validation\n",
    "cv = cross_validation.KFold(len(data_X_train), n_folds=3,shuffle=True, random_state=None)\n",
    "#print(cv)\n",
    "#Define some local varaibles\n",
    "D = data_X_train.shape[1] #Number of features\n",
    "K = 10 #Number of classes assuming class index starts from 0\n",
    "\n",
    "# Start with an initialize parameters randomly\n",
    "# Initial values from hyperparameter\n",
    "reg = 1e-3 # regularization strength\n",
    "result=[]\n",
    "\n",
    "for traincv,testcv in cv:\n",
    "   \n",
    "    X_train, X_test = data_X_train[traincv], data_X_train[testcv]\n",
    "    y_train, y_test = data_Y_train[traincv], data_Y_train[testcv]\n",
    "    W,b,W2,b2=ffn(X_train,y_train,0.4,0.001,18)\n",
    "    \n",
    "    hidden_layer = np.maximum(0, np.dot(X_test, W) + b)\n",
    "    scores = np.dot(hidden_layer, W2) + b2\n",
    "    predicted_class = np.argmax(scores, axis=1)\n",
    "    result.append(np.mean(predicted_class == y_test))\n",
    "print (\"Validation Accuracy: %.2f\" % (np.array(result).mean()*100))\n",
    "print (\"Test Accuracy: %.2f\" % Test_Acc) "
   ]
  },
  {
   "cell_type": "code",
   "execution_count": 38,
   "metadata": {
    "collapsed": false
   },
   "outputs": [
    {
     "name": "stdout",
     "output_type": "stream",
     "text": [
      "5\n",
      "10\n",
      "18\n"
     ]
    },
    {
     "data": {
      "image/png": "[encoded data removed]",
      "text/plain": [
       "<matplotlib.figure.Figure at 0x16e8acb0a20>"
      ]
     },
     "metadata": {},
     "output_type": "display_data"
    }
   ],
   "source": [
    "#Question 6.1.5.1.5\n",
    "result=[]\n",
    "W1=[]\n",
    "b1=[]\n",
    "W = 0.01 * np.random.randn(D,K)\n",
    "b = np.zeros((1,K))\n",
    "giter=[5,10,18]\n",
    "for j in giter[:]:\n",
    "    learning_rate=[]\n",
    "    result=[]\n",
    "    for i in range(5):\n",
    "        learning_rate.append(0.2*i)\n",
    "        W,b,W2,b2= ffn(data_X_train,data_Y_train,0.2*i,0.001,j)\n",
    "        hidden_layer = np.maximum(0, np.dot(data_X_test, W) + b)\n",
    "        scores = np.dot(hidden_layer, W2) + b2\n",
    "        predicted_class = np.argmax(scores, axis=1)\n",
    "        result.append(np.mean(predicted_class == data_Y_test))    \n",
    "    plt.plot(learning_rate,result)\n",
    "    print(j)\n",
    "plt.suptitle('Accuracy vs Learning Rate')\n",
    "plt.xlabel('Learning Rate')\n",
    "plt.ylabel('Accuracy')\n",
    "plt.legend(['5', '10','18'], loc='lower right')\n",
    "plt.show()"
   ]
  },
  {
   "cell_type": "code",
   "execution_count": 39,
   "metadata": {
    "collapsed": false
   },
   "outputs": [
    {
     "data": {
      "image/png": "[encoded data removed]",
      "text/plain": [
       "<matplotlib.figure.Figure at 0x16e8ac170f0>"
      ]
     },
     "metadata": {},
     "output_type": "display_data"
    },
    {
     "name": "stdout",
     "output_type": "stream",
     "text": [
      "Best Accuracy with Regularization parameter  : 59.65 \n",
      "Best Regularization parameter with Regularization parameter : 0.00000\n",
      "Best Accuracy without Regularization parameter  : 57.32 \n"
     ]
    }
   ],
   "source": [
    "#Question 6.1.5.1.6\n",
    "accuracy=[]\n",
    "learning_rate=[]\n",
    "regu_rate=[]\n",
    "resultl=[]\n",
    "W1=[]\n",
    "b1=[]\n",
    "resultr=[]\n",
    "for j in range(5):\n",
    "    regu_rate.append(0.02*j)\n",
    "    W,b,W2,b2= ffn(data_X_train,data_Y_train,0.6,0.02*j,10)\n",
    "    hidden_layer = np.maximum(0, np.dot(data_X_test, W) + b)\n",
    "    scores = np.dot(hidden_layer, W2) + b2\n",
    "    predicted_class = np.argmax(scores, axis=1)\n",
    "    resultr.append(np.mean(predicted_class == data_Y_test))\n",
    "plt.plot(regu_rate,resultr)\n",
    "plt.suptitle('Accuracy vs Regularisation Rate With Regularization')\n",
    "plt.xlabel('Regularisation Rate')\n",
    "plt.ylabel('Accuracy')\n",
    "plt.show()\n",
    "max_acc=max(resultr)\n",
    "index=resultr.index(max_acc)\n",
    "print (\"Best Accuracy with Regularization parameter  : %.2f \" % (max_acc*100))\n",
    "print (\"Best Regularization parameter with Regularization parameter : %.5f\" % regu_rate[index])\n",
    "resultr1=[]\n",
    "W,b,W2,b2= ffn(data_X_train,data_Y_train,0.6,0.02,10)\n",
    "hidden_layer = np.maximum(0, np.dot(data_X_test, W) + b)\n",
    "scores2 = np.dot(hidden_layer, W2) + b2\n",
    "predicted_class2 = np.argmax(scores2, axis=1)\n",
    "resultr1.append(np.mean(predicted_class2 == data_Y_test))\n",
    "max_acc1=max(resultr1)\n",
    "index1=resultr1.index(max_acc1)\n",
    "print (\"Best Accuracy without Regularization parameter  : %.2f \" % (max_acc1*100))"
   ]
  },
  {
   "cell_type": "code",
   "execution_count": 41,
   "metadata": {
    "collapsed": false
   },
   "outputs": [
    {
     "name": "stdout",
     "output_type": "stream",
     "text": [
      "train accuracy with 50:50 split: 63.41\n",
      "Test accuracy with 50:50 split: 63.04\n"
     ]
    }
   ],
   "source": [
    "#Question 6.1.5.1.7\n",
    "data_X_train50, data_X_test50, data_Y_train50, data_Y_test50 = train_test_split(data_X_train, data_Y_train, test_size=0.50)\n",
    "W,b,W2,b2=ffn(data_X_train50,data_Y_train50,0.6,0.001,10)\n",
    "hidden_layer = np.maximum(0, np.dot(data_X_train, W) + b)\n",
    "scores = np.dot(hidden_layer, W2) + b2\n",
    "predicted_class = np.argmax(scores, axis=1)\n",
    "print ('train accuracy with 50:50 split: %.2f' % (np.mean(predicted_class == data_Y_train)*100))\n",
    "\n",
    "hidden_layer = np.maximum(0, np.dot(data_X_test, W) + b)\n",
    "scores = np.dot(hidden_layer, W2) + b2\n",
    "predicted_class = np.argmax(scores, axis=1)\n",
    "Test_Acc=(np.mean(predicted_class == data_Y_test)*100)\n",
    "print ('Test accuracy with 50:50 split: %.2f' % Test_Acc)"
   ]
  },
  {
   "cell_type": "code",
   "execution_count": 44,
   "metadata": {
    "collapsed": true
   },
   "outputs": [],
   "source": [
    "#Question 6.1.5.2\n",
    "def ffnl(X,y,s,r,g_iter):\n",
    "    #For simplicity we will take the batch size to be the same as number of examples\n",
    "    num_examples = X.shape[0]\n",
    "    h = 100\n",
    "    np.random.seed(1234)\n",
    "    W = 0.01 * np.random.randn(D,h)\n",
    "    b = np.zeros((1,h))\n",
    "    W2 = 0.01 * np.random.randn(h,K)\n",
    "    b2 = np.zeros((1,K))\n",
    "    \n",
    "    #Initial value for the Gradient Descent Parameter\n",
    "    step_size = s #Also called learning rate\n",
    "\n",
    "    #For simplicity, we will not hand tune this algorithm parameter as well.\n",
    "    reg= r\n",
    "    \n",
    "    # gradient descent loop\n",
    "    for i in range(g_iter):\n",
    "      \n",
    "  # evaluate class scores, [N x K]\n",
    "        #hidden_layer = np.maximum(0.01*x, np.dot(X, W) + b)# note, ReLU activation\n",
    "        hidden_layer = np.maximum(np.dot(0.01*X,W)+b  , np.dot(X,W)+ b) # Leaky ReLU activation\n",
    "        scores = np.dot(hidden_layer, W2) + b2\n",
    "         \n",
    "  # compute the class probabilities\n",
    "        exp_scores = np.exp(scores)\n",
    "        probs = exp_scores / np.sum(exp_scores, axis=1, keepdims=True) # [N x K]\n",
    "  \n",
    "  # compute the loss: average cross-entropy loss and regularization\n",
    "        corect_logprobs = -np.log(probs[range(num_examples),y])\n",
    "        data_loss = np.sum(corect_logprobs)/num_examples\n",
    "        reg_loss = 0.5*reg*np.sum(W*W) + 0.5*reg*np.sum(W2*W2)\n",
    "        loss = data_loss + reg_loss\n",
    "        #if i % 1000 == 0:\n",
    "            #print \"iteration %d: loss %f\" % (i, loss)\n",
    "  \n",
    "  # compute the gradient on scores\n",
    "        dscores = probs\n",
    "        dscores[range(num_examples),y] -= 1\n",
    "        dscores /= num_examples\n",
    "  \n",
    "  # backpropate the gradient to the parameters\n",
    "  # first backprop into parameters W2 and b2\n",
    "        dW2 = np.dot(hidden_layer.T, dscores)\n",
    "        db2 = np.sum(dscores, axis=0, keepdims=True)\n",
    "  # next backprop into hidden layer\n",
    "        dhidden = np.dot(dscores, W2.T)\n",
    "  # backprop the ReLU non-linearity\n",
    "        dhidden[hidden_layer <= 0] *= 0.01\n",
    "  # finally into W,b\n",
    "        dW = np.dot(X.T, dhidden)\n",
    "        db = np.sum(dhidden, axis=0, keepdims=True)\n",
    "  \n",
    "  # add regularization gradient contribution\n",
    "        dW2 += reg * W2\n",
    "        dW += reg * W\n",
    "  \n",
    "  # perform a parameter update\n",
    "        W += -step_size * dW\n",
    "        b += -step_size * db\n",
    "        W2 += -step_size * dW2\n",
    "        b2 += -step_size * db2\n",
    "        \n",
    "    return(W,b,W2,b2)"
   ]
  },
  {
   "cell_type": "code",
   "execution_count": 46,
   "metadata": {
    "collapsed": false
   },
   "outputs": [
    {
     "name": "stdout",
     "output_type": "stream",
     "text": [
      "train accuracy: 43.06\n",
      "Test accuracy: 43.35\n"
     ]
    }
   ],
   "source": [
    "#Question 6.1.5.2.3\n",
    "\n",
    "W,b,W2,b2= ffnl(data_X_train,data_Y_train,0.6,0.001,3)\n",
    "\n",
    "hidden_layer = np.maximum(np.dot(0.01*data_X_train,W)+b  , np.dot(data_X_train,W)+ b)\n",
    "scores = np.dot(hidden_layer, W2) + b2\n",
    "predicted_class = np.argmax(scores, axis=1)\n",
    "print ('train accuracy: %.2f' % (np.mean(predicted_class == data_Y_train)*100))\n",
    "\n",
    "hidden_layer = np.maximum(np.dot(0.01*data_X_test,W)+b  , np.dot(data_X_test,W)+ b)\n",
    "scores = np.dot(hidden_layer, W2) + b2\n",
    "predicted_class = np.argmax(scores, axis=1)\n",
    "Test_Acc=(np.mean(predicted_class == data_Y_test)*100)\n",
    "print ('Test accuracy: %.2f' % Test_Acc)\n"
   ]
  }
 ],
 "metadata": {
  "anaconda-cloud": {},
  "kernelspec": {
   "display_name": "Python [conda root]",
   "language": "python",
   "name": "conda-root-py"
  },
  "language_info": {
   "codemirror_mode": {
    "name": "ipython",
    "version": 3
   },
   "file_extension": ".py",
   "mimetype": "text/x-python",
   "name": "python",
   "nbconvert_exporter": "python",
   "pygments_lexer": "ipython3",
   "version": "3.5.2"
  }
 },
 "nbformat": 4,
 "nbformat_minor": 1
}
